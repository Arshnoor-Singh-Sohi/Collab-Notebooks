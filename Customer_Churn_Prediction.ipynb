{
  "metadata": {
    "kernelspec": {
      "language": "python",
      "display_name": "Python 3",
      "name": "python3"
    },
    "language_info": {
      "name": "python",
      "version": "3.11.13",
      "mimetype": "text/x-python",
      "codemirror_mode": {
        "name": "ipython",
        "version": 3
      },
      "pygments_lexer": "ipython3",
      "nbconvert_exporter": "python",
      "file_extension": ".py"
    },
    "kaggle": {
      "accelerator": "none",
      "dataSources": [
        {
          "sourceId": 1481789,
          "sourceType": "datasetVersion",
          "datasetId": 869651
        }
      ],
      "dockerImageVersionId": 31089,
      "isInternetEnabled": false,
      "language": "python",
      "sourceType": "notebook",
      "isGpuEnabled": false
    },
    "colab": {
      "name": "Customer Churn Prediction",
      "provenance": [],
      "include_colab_link": true
    }
  },
  "nbformat_minor": 0,
  "nbformat": 4,
  "cells": [
    {
      "cell_type": "markdown",
      "metadata": {
        "id": "view-in-github",
        "colab_type": "text"
      },
      "source": [
        "<a href=\"https://colab.research.google.com/github/Arshnoor-Singh-Sohi/Collab-Notebooks/blob/main/Customer_Churn_Prediction.ipynb\" target=\"_parent\"><img src=\"https://colab.research.google.com/assets/colab-badge.svg\" alt=\"Open In Colab\"/></a>"
      ]
    },
    {
      "source": [
        "# IMPORTANT: RUN THIS CELL IN ORDER TO IMPORT YOUR KAGGLE DATA SOURCES,\n",
        "# THEN FEEL FREE TO DELETE THIS CELL.\n",
        "# NOTE: THIS NOTEBOOK ENVIRONMENT DIFFERS FROM KAGGLE'S PYTHON\n",
        "# ENVIRONMENT SO THERE MAY BE MISSING LIBRARIES USED BY YOUR\n",
        "# NOTEBOOK.\n",
        "import kagglehub\n",
        "rjmanoj_credit_card_customer_churn_prediction_path = kagglehub.dataset_download('rjmanoj/credit-card-customer-churn-prediction')\n",
        "\n",
        "print('Data source import complete.')\n"
      ],
      "metadata": {
        "id": "NrW49pCIFZ5v"
      },
      "cell_type": "code",
      "outputs": [],
      "execution_count": null
    },
    {
      "cell_type": "code",
      "source": [
        "# This Python 3 environment comes with many helpful analytics libraries installed\n",
        "# It is defined by the kaggle/python Docker image: https://github.com/kaggle/docker-python\n",
        "# For example, here's several helpful packages to load\n",
        "\n",
        "import numpy as np # linear algebra\n",
        "import pandas as pd # data processing, CSV file I/O (e.g. pd.read_csv)\n",
        "\n",
        "# Input data files are available in the read-only \"../input/\" directory\n",
        "# For example, running this (by clicking run or pressing Shift+Enter) will list all files under the input directory\n",
        "\n",
        "import os\n",
        "for dirname, _, filenames in os.walk('/kaggle/input'):\n",
        "    for filename in filenames:\n",
        "        print(os.path.join(dirname, filename))\n",
        "\n",
        "# You can write up to 20GB to the current directory (/kaggle/working/) that gets preserved as output when you create a version using \"Save & Run All\"\n",
        "# You can also write temporary files to /kaggle/temp/, but they won't be saved outside of the current session"
      ],
      "metadata": {
        "_uuid": "8f2839f25d086af736a60e9eeb907d3b93b6e0e5",
        "_cell_guid": "b1076dfc-b9ad-4769-8c92-a6c4dae69d19",
        "trusted": true,
        "execution": {
          "iopub.status.busy": "2025-08-24T21:07:39.818488Z",
          "iopub.execute_input": "2025-08-24T21:07:39.818825Z",
          "iopub.status.idle": "2025-08-24T21:07:42.5981Z",
          "shell.execute_reply.started": "2025-08-24T21:07:39.818779Z",
          "shell.execute_reply": "2025-08-24T21:07:42.596727Z"
        },
        "id": "6vZ3rRyxFZ5x",
        "outputId": "3ee4d69f-7d4f-4b6c-e62a-bfc8c4f4cdfc"
      },
      "outputs": [
        {
          "name": "stdout",
          "text": "/kaggle/input/credit-card-customer-churn-prediction/Churn_Modelling.csv\n",
          "output_type": "stream"
        }
      ],
      "execution_count": null
    },
    {
      "cell_type": "code",
      "source": [
        "df = pd.read_csv('/kaggle/input/credit-card-customer-churn-prediction/Churn_Modelling.csv')"
      ],
      "metadata": {
        "trusted": true,
        "execution": {
          "iopub.status.busy": "2025-08-24T21:21:01.994955Z",
          "iopub.execute_input": "2025-08-24T21:21:01.995286Z",
          "iopub.status.idle": "2025-08-24T21:21:02.035671Z",
          "shell.execute_reply.started": "2025-08-24T21:21:01.995261Z",
          "shell.execute_reply": "2025-08-24T21:21:02.034589Z"
        },
        "id": "Ao9et6eYFZ50"
      },
      "outputs": [],
      "execution_count": null
    },
    {
      "cell_type": "code",
      "source": [
        "df.head()"
      ],
      "metadata": {
        "trusted": true,
        "execution": {
          "iopub.status.busy": "2025-08-24T21:21:11.474684Z",
          "iopub.execute_input": "2025-08-24T21:21:11.475083Z",
          "iopub.status.idle": "2025-08-24T21:21:11.490509Z",
          "shell.execute_reply.started": "2025-08-24T21:21:11.475047Z",
          "shell.execute_reply": "2025-08-24T21:21:11.489283Z"
        },
        "id": "aJpXqpDeFZ52",
        "outputId": "afa5b865-3b45-42c9-e030-8aba4732fa77"
      },
      "outputs": [
        {
          "execution_count": 22,
          "output_type": "execute_result",
          "data": {
            "text/plain": "   RowNumber  CustomerId   Surname  CreditScore Geography  Gender  Age  \\\n0          1    15634602  Hargrave          619    France  Female   42   \n1          2    15647311      Hill          608     Spain  Female   41   \n2          3    15619304      Onio          502    France  Female   42   \n3          4    15701354      Boni          699    France  Female   39   \n4          5    15737888  Mitchell          850     Spain  Female   43   \n\n   Tenure    Balance  NumOfProducts  HasCrCard  IsActiveMember  \\\n0       2       0.00              1          1               1   \n1       1   83807.86              1          0               1   \n2       8  159660.80              3          1               0   \n3       1       0.00              2          0               0   \n4       2  125510.82              1          1               1   \n\n   EstimatedSalary  Exited  \n0        101348.88       1  \n1        112542.58       0  \n2        113931.57       1  \n3         93826.63       0  \n4         79084.10       0  ",
            "text/html": "<div>\n<style scoped>\n    .dataframe tbody tr th:only-of-type {\n        vertical-align: middle;\n    }\n\n    .dataframe tbody tr th {\n        vertical-align: top;\n    }\n\n    .dataframe thead th {\n        text-align: right;\n    }\n</style>\n<table border=\"1\" class=\"dataframe\">\n  <thead>\n    <tr style=\"text-align: right;\">\n      <th></th>\n      <th>RowNumber</th>\n      <th>CustomerId</th>\n      <th>Surname</th>\n      <th>CreditScore</th>\n      <th>Geography</th>\n      <th>Gender</th>\n      <th>Age</th>\n      <th>Tenure</th>\n      <th>Balance</th>\n      <th>NumOfProducts</th>\n      <th>HasCrCard</th>\n      <th>IsActiveMember</th>\n      <th>EstimatedSalary</th>\n      <th>Exited</th>\n    </tr>\n  </thead>\n  <tbody>\n    <tr>\n      <th>0</th>\n      <td>1</td>\n      <td>15634602</td>\n      <td>Hargrave</td>\n      <td>619</td>\n      <td>France</td>\n      <td>Female</td>\n      <td>42</td>\n      <td>2</td>\n      <td>0.00</td>\n      <td>1</td>\n      <td>1</td>\n      <td>1</td>\n      <td>101348.88</td>\n      <td>1</td>\n    </tr>\n    <tr>\n      <th>1</th>\n      <td>2</td>\n      <td>15647311</td>\n      <td>Hill</td>\n      <td>608</td>\n      <td>Spain</td>\n      <td>Female</td>\n      <td>41</td>\n      <td>1</td>\n      <td>83807.86</td>\n      <td>1</td>\n      <td>0</td>\n      <td>1</td>\n      <td>112542.58</td>\n      <td>0</td>\n    </tr>\n    <tr>\n      <th>2</th>\n      <td>3</td>\n      <td>15619304</td>\n      <td>Onio</td>\n      <td>502</td>\n      <td>France</td>\n      <td>Female</td>\n      <td>42</td>\n      <td>8</td>\n      <td>159660.80</td>\n      <td>3</td>\n      <td>1</td>\n      <td>0</td>\n      <td>113931.57</td>\n      <td>1</td>\n    </tr>\n    <tr>\n      <th>3</th>\n      <td>4</td>\n      <td>15701354</td>\n      <td>Boni</td>\n      <td>699</td>\n      <td>France</td>\n      <td>Female</td>\n      <td>39</td>\n      <td>1</td>\n      <td>0.00</td>\n      <td>2</td>\n      <td>0</td>\n      <td>0</td>\n      <td>93826.63</td>\n      <td>0</td>\n    </tr>\n    <tr>\n      <th>4</th>\n      <td>5</td>\n      <td>15737888</td>\n      <td>Mitchell</td>\n      <td>850</td>\n      <td>Spain</td>\n      <td>Female</td>\n      <td>43</td>\n      <td>2</td>\n      <td>125510.82</td>\n      <td>1</td>\n      <td>1</td>\n      <td>1</td>\n      <td>79084.10</td>\n      <td>0</td>\n    </tr>\n  </tbody>\n</table>\n</div>"
          },
          "metadata": {}
        }
      ],
      "execution_count": null
    },
    {
      "cell_type": "code",
      "source": [
        "print(df.shape)"
      ],
      "metadata": {
        "trusted": true,
        "execution": {
          "iopub.status.busy": "2025-08-24T21:21:13.652787Z",
          "iopub.execute_input": "2025-08-24T21:21:13.653131Z",
          "iopub.status.idle": "2025-08-24T21:21:13.659116Z",
          "shell.execute_reply.started": "2025-08-24T21:21:13.653107Z",
          "shell.execute_reply": "2025-08-24T21:21:13.657911Z"
        },
        "id": "R4wdjLMgFZ53",
        "outputId": "535da698-7156-4fa5-93da-91bc4a5d5077"
      },
      "outputs": [
        {
          "name": "stdout",
          "text": "(10000, 14)\n",
          "output_type": "stream"
        }
      ],
      "execution_count": null
    },
    {
      "cell_type": "code",
      "source": [
        "df.info()"
      ],
      "metadata": {
        "trusted": true,
        "execution": {
          "iopub.status.busy": "2025-08-24T21:21:15.056073Z",
          "iopub.execute_input": "2025-08-24T21:21:15.056417Z",
          "iopub.status.idle": "2025-08-24T21:21:15.073802Z",
          "shell.execute_reply.started": "2025-08-24T21:21:15.056388Z",
          "shell.execute_reply": "2025-08-24T21:21:15.072753Z"
        },
        "id": "3ujXa70DFZ54",
        "outputId": "2906b488-55b8-4751-9477-0317ca914c62"
      },
      "outputs": [
        {
          "name": "stdout",
          "text": "<class 'pandas.core.frame.DataFrame'>\nRangeIndex: 10000 entries, 0 to 9999\nData columns (total 14 columns):\n #   Column           Non-Null Count  Dtype  \n---  ------           --------------  -----  \n 0   RowNumber        10000 non-null  int64  \n 1   CustomerId       10000 non-null  int64  \n 2   Surname          10000 non-null  object \n 3   CreditScore      10000 non-null  int64  \n 4   Geography        10000 non-null  object \n 5   Gender           10000 non-null  object \n 6   Age              10000 non-null  int64  \n 7   Tenure           10000 non-null  int64  \n 8   Balance          10000 non-null  float64\n 9   NumOfProducts    10000 non-null  int64  \n 10  HasCrCard        10000 non-null  int64  \n 11  IsActiveMember   10000 non-null  int64  \n 12  EstimatedSalary  10000 non-null  float64\n 13  Exited           10000 non-null  int64  \ndtypes: float64(2), int64(9), object(3)\nmemory usage: 1.1+ MB\n",
          "output_type": "stream"
        }
      ],
      "execution_count": null
    },
    {
      "cell_type": "code",
      "source": [
        "df.duplicated().sum()"
      ],
      "metadata": {
        "trusted": true,
        "execution": {
          "iopub.status.busy": "2025-08-24T21:21:17.862679Z",
          "iopub.execute_input": "2025-08-24T21:21:17.863082Z",
          "iopub.status.idle": "2025-08-24T21:21:17.878325Z",
          "shell.execute_reply.started": "2025-08-24T21:21:17.863055Z",
          "shell.execute_reply": "2025-08-24T21:21:17.877278Z"
        },
        "id": "e0Wcdy1CFZ54",
        "outputId": "c89d97db-ef77-4402-bd39-96dc2c677834"
      },
      "outputs": [
        {
          "execution_count": 25,
          "output_type": "execute_result",
          "data": {
            "text/plain": "0"
          },
          "metadata": {}
        }
      ],
      "execution_count": null
    },
    {
      "cell_type": "code",
      "source": [
        "df['Exited'].value_counts()"
      ],
      "metadata": {
        "trusted": true,
        "execution": {
          "iopub.status.busy": "2025-08-24T21:21:37.789113Z",
          "iopub.execute_input": "2025-08-24T21:21:37.790305Z",
          "iopub.status.idle": "2025-08-24T21:21:37.798115Z",
          "shell.execute_reply.started": "2025-08-24T21:21:37.790267Z",
          "shell.execute_reply": "2025-08-24T21:21:37.796901Z"
        },
        "id": "sUiIEbVfFZ55",
        "outputId": "37af80da-370f-48e2-f66e-1ecfb42a7b6a"
      },
      "outputs": [
        {
          "execution_count": 26,
          "output_type": "execute_result",
          "data": {
            "text/plain": "Exited\n0    7963\n1    2037\nName: count, dtype: int64"
          },
          "metadata": {}
        }
      ],
      "execution_count": null
    },
    {
      "cell_type": "code",
      "source": [
        "df['Geography'].value_counts()"
      ],
      "metadata": {
        "trusted": true,
        "execution": {
          "iopub.status.busy": "2025-08-24T21:21:39.152568Z",
          "iopub.execute_input": "2025-08-24T21:21:39.153065Z",
          "iopub.status.idle": "2025-08-24T21:21:39.162125Z",
          "shell.execute_reply.started": "2025-08-24T21:21:39.153037Z",
          "shell.execute_reply": "2025-08-24T21:21:39.160939Z"
        },
        "id": "wiKgn52kFZ56",
        "outputId": "472984d5-dc0e-4783-8ce1-9c65deb3007f"
      },
      "outputs": [
        {
          "execution_count": 27,
          "output_type": "execute_result",
          "data": {
            "text/plain": "Geography\nFrance     5014\nGermany    2509\nSpain      2477\nName: count, dtype: int64"
          },
          "metadata": {}
        }
      ],
      "execution_count": null
    },
    {
      "cell_type": "code",
      "source": [
        "df['Gender'].value_counts()"
      ],
      "metadata": {
        "trusted": true,
        "execution": {
          "iopub.status.busy": "2025-08-24T21:21:40.260503Z",
          "iopub.execute_input": "2025-08-24T21:21:40.261027Z",
          "iopub.status.idle": "2025-08-24T21:21:40.270433Z",
          "shell.execute_reply.started": "2025-08-24T21:21:40.260997Z",
          "shell.execute_reply": "2025-08-24T21:21:40.269125Z"
        },
        "id": "CGNU0YfLFZ57",
        "outputId": "835bad8f-2f33-47b6-a320-8d660613c2d9"
      },
      "outputs": [
        {
          "execution_count": 28,
          "output_type": "execute_result",
          "data": {
            "text/plain": "Gender\nMale      5457\nFemale    4543\nName: count, dtype: int64"
          },
          "metadata": {}
        }
      ],
      "execution_count": null
    },
    {
      "cell_type": "code",
      "source": [
        "df.drop(columns=['RowNumber', 'CustomerId', 'Surname'], inplace=True)"
      ],
      "metadata": {
        "trusted": true,
        "execution": {
          "iopub.status.busy": "2025-08-24T21:21:50.095007Z",
          "iopub.execute_input": "2025-08-24T21:21:50.095296Z",
          "iopub.status.idle": "2025-08-24T21:21:50.10193Z",
          "shell.execute_reply.started": "2025-08-24T21:21:50.095276Z",
          "shell.execute_reply": "2025-08-24T21:21:50.100939Z"
        },
        "id": "uDWHvSYKFZ58"
      },
      "outputs": [],
      "execution_count": null
    },
    {
      "cell_type": "code",
      "source": [
        "df.head()"
      ],
      "metadata": {
        "trusted": true,
        "execution": {
          "iopub.status.busy": "2025-08-24T21:21:51.737849Z",
          "iopub.execute_input": "2025-08-24T21:21:51.738233Z",
          "iopub.status.idle": "2025-08-24T21:21:51.752975Z",
          "shell.execute_reply.started": "2025-08-24T21:21:51.738206Z",
          "shell.execute_reply": "2025-08-24T21:21:51.751944Z"
        },
        "id": "GH7uBDctFZ58",
        "outputId": "578c63da-2abe-435a-8a6f-12bffc6bf4b7"
      },
      "outputs": [
        {
          "execution_count": 30,
          "output_type": "execute_result",
          "data": {
            "text/plain": "   CreditScore Geography  Gender  Age  Tenure    Balance  NumOfProducts  \\\n0          619    France  Female   42       2       0.00              1   \n1          608     Spain  Female   41       1   83807.86              1   \n2          502    France  Female   42       8  159660.80              3   \n3          699    France  Female   39       1       0.00              2   \n4          850     Spain  Female   43       2  125510.82              1   \n\n   HasCrCard  IsActiveMember  EstimatedSalary  Exited  \n0          1               1        101348.88       1  \n1          0               1        112542.58       0  \n2          1               0        113931.57       1  \n3          0               0         93826.63       0  \n4          1               1         79084.10       0  ",
            "text/html": "<div>\n<style scoped>\n    .dataframe tbody tr th:only-of-type {\n        vertical-align: middle;\n    }\n\n    .dataframe tbody tr th {\n        vertical-align: top;\n    }\n\n    .dataframe thead th {\n        text-align: right;\n    }\n</style>\n<table border=\"1\" class=\"dataframe\">\n  <thead>\n    <tr style=\"text-align: right;\">\n      <th></th>\n      <th>CreditScore</th>\n      <th>Geography</th>\n      <th>Gender</th>\n      <th>Age</th>\n      <th>Tenure</th>\n      <th>Balance</th>\n      <th>NumOfProducts</th>\n      <th>HasCrCard</th>\n      <th>IsActiveMember</th>\n      <th>EstimatedSalary</th>\n      <th>Exited</th>\n    </tr>\n  </thead>\n  <tbody>\n    <tr>\n      <th>0</th>\n      <td>619</td>\n      <td>France</td>\n      <td>Female</td>\n      <td>42</td>\n      <td>2</td>\n      <td>0.00</td>\n      <td>1</td>\n      <td>1</td>\n      <td>1</td>\n      <td>101348.88</td>\n      <td>1</td>\n    </tr>\n    <tr>\n      <th>1</th>\n      <td>608</td>\n      <td>Spain</td>\n      <td>Female</td>\n      <td>41</td>\n      <td>1</td>\n      <td>83807.86</td>\n      <td>1</td>\n      <td>0</td>\n      <td>1</td>\n      <td>112542.58</td>\n      <td>0</td>\n    </tr>\n    <tr>\n      <th>2</th>\n      <td>502</td>\n      <td>France</td>\n      <td>Female</td>\n      <td>42</td>\n      <td>8</td>\n      <td>159660.80</td>\n      <td>3</td>\n      <td>1</td>\n      <td>0</td>\n      <td>113931.57</td>\n      <td>1</td>\n    </tr>\n    <tr>\n      <th>3</th>\n      <td>699</td>\n      <td>France</td>\n      <td>Female</td>\n      <td>39</td>\n      <td>1</td>\n      <td>0.00</td>\n      <td>2</td>\n      <td>0</td>\n      <td>0</td>\n      <td>93826.63</td>\n      <td>0</td>\n    </tr>\n    <tr>\n      <th>4</th>\n      <td>850</td>\n      <td>Spain</td>\n      <td>Female</td>\n      <td>43</td>\n      <td>2</td>\n      <td>125510.82</td>\n      <td>1</td>\n      <td>1</td>\n      <td>1</td>\n      <td>79084.10</td>\n      <td>0</td>\n    </tr>\n  </tbody>\n</table>\n</div>"
          },
          "metadata": {}
        }
      ],
      "execution_count": null
    },
    {
      "cell_type": "code",
      "source": [
        "df = pd.get_dummies(df, columns=['Geography', 'Gender'], drop_first=True)"
      ],
      "metadata": {
        "trusted": true,
        "execution": {
          "iopub.status.busy": "2025-08-24T21:22:00.329124Z",
          "iopub.execute_input": "2025-08-24T21:22:00.329446Z",
          "iopub.status.idle": "2025-08-24T21:22:00.342954Z",
          "shell.execute_reply.started": "2025-08-24T21:22:00.329421Z",
          "shell.execute_reply": "2025-08-24T21:22:00.341945Z"
        },
        "id": "wu7vwPKDFZ59"
      },
      "outputs": [],
      "execution_count": null
    },
    {
      "cell_type": "code",
      "source": [
        "df.head()"
      ],
      "metadata": {
        "trusted": true,
        "execution": {
          "iopub.status.busy": "2025-08-24T21:22:07.103406Z",
          "iopub.execute_input": "2025-08-24T21:22:07.103697Z",
          "iopub.status.idle": "2025-08-24T21:22:07.11795Z",
          "shell.execute_reply.started": "2025-08-24T21:22:07.103678Z",
          "shell.execute_reply": "2025-08-24T21:22:07.116953Z"
        },
        "id": "j1IzmgUPFZ5-",
        "outputId": "1c1e248e-8b5f-4806-c1a2-ee85cf6d0024"
      },
      "outputs": [
        {
          "execution_count": 32,
          "output_type": "execute_result",
          "data": {
            "text/plain": "   CreditScore  Age  Tenure    Balance  NumOfProducts  HasCrCard  \\\n0          619   42       2       0.00              1          1   \n1          608   41       1   83807.86              1          0   \n2          502   42       8  159660.80              3          1   \n3          699   39       1       0.00              2          0   \n4          850   43       2  125510.82              1          1   \n\n   IsActiveMember  EstimatedSalary  Exited  Geography_Germany  \\\n0               1        101348.88       1              False   \n1               1        112542.58       0              False   \n2               0        113931.57       1              False   \n3               0         93826.63       0              False   \n4               1         79084.10       0              False   \n\n   Geography_Spain  Gender_Male  \n0            False        False  \n1             True        False  \n2            False        False  \n3            False        False  \n4             True        False  ",
            "text/html": "<div>\n<style scoped>\n    .dataframe tbody tr th:only-of-type {\n        vertical-align: middle;\n    }\n\n    .dataframe tbody tr th {\n        vertical-align: top;\n    }\n\n    .dataframe thead th {\n        text-align: right;\n    }\n</style>\n<table border=\"1\" class=\"dataframe\">\n  <thead>\n    <tr style=\"text-align: right;\">\n      <th></th>\n      <th>CreditScore</th>\n      <th>Age</th>\n      <th>Tenure</th>\n      <th>Balance</th>\n      <th>NumOfProducts</th>\n      <th>HasCrCard</th>\n      <th>IsActiveMember</th>\n      <th>EstimatedSalary</th>\n      <th>Exited</th>\n      <th>Geography_Germany</th>\n      <th>Geography_Spain</th>\n      <th>Gender_Male</th>\n    </tr>\n  </thead>\n  <tbody>\n    <tr>\n      <th>0</th>\n      <td>619</td>\n      <td>42</td>\n      <td>2</td>\n      <td>0.00</td>\n      <td>1</td>\n      <td>1</td>\n      <td>1</td>\n      <td>101348.88</td>\n      <td>1</td>\n      <td>False</td>\n      <td>False</td>\n      <td>False</td>\n    </tr>\n    <tr>\n      <th>1</th>\n      <td>608</td>\n      <td>41</td>\n      <td>1</td>\n      <td>83807.86</td>\n      <td>1</td>\n      <td>0</td>\n      <td>1</td>\n      <td>112542.58</td>\n      <td>0</td>\n      <td>False</td>\n      <td>True</td>\n      <td>False</td>\n    </tr>\n    <tr>\n      <th>2</th>\n      <td>502</td>\n      <td>42</td>\n      <td>8</td>\n      <td>159660.80</td>\n      <td>3</td>\n      <td>1</td>\n      <td>0</td>\n      <td>113931.57</td>\n      <td>1</td>\n      <td>False</td>\n      <td>False</td>\n      <td>False</td>\n    </tr>\n    <tr>\n      <th>3</th>\n      <td>699</td>\n      <td>39</td>\n      <td>1</td>\n      <td>0.00</td>\n      <td>2</td>\n      <td>0</td>\n      <td>0</td>\n      <td>93826.63</td>\n      <td>0</td>\n      <td>False</td>\n      <td>False</td>\n      <td>False</td>\n    </tr>\n    <tr>\n      <th>4</th>\n      <td>850</td>\n      <td>43</td>\n      <td>2</td>\n      <td>125510.82</td>\n      <td>1</td>\n      <td>1</td>\n      <td>1</td>\n      <td>79084.10</td>\n      <td>0</td>\n      <td>False</td>\n      <td>True</td>\n      <td>False</td>\n    </tr>\n  </tbody>\n</table>\n</div>"
          },
          "metadata": {}
        }
      ],
      "execution_count": null
    },
    {
      "cell_type": "code",
      "source": [
        "X = df.drop(columns=['Exited'])\n",
        "y = df['Exited']\n",
        "from sklearn.model_selection import train_test_split\n",
        "X_train, X_test, y_train, y_test = train_test_split(X,y,test_size=0.2, random_state=1)"
      ],
      "metadata": {
        "trusted": true,
        "execution": {
          "iopub.status.busy": "2025-08-24T21:22:09.257538Z",
          "iopub.execute_input": "2025-08-24T21:22:09.257933Z",
          "iopub.status.idle": "2025-08-24T21:22:09.269417Z",
          "shell.execute_reply.started": "2025-08-24T21:22:09.257901Z",
          "shell.execute_reply": "2025-08-24T21:22:09.268078Z"
        },
        "id": "2lxK7rl3FZ5-"
      },
      "outputs": [],
      "execution_count": null
    },
    {
      "cell_type": "code",
      "source": [
        "X"
      ],
      "metadata": {
        "trusted": true,
        "execution": {
          "iopub.status.busy": "2025-08-24T21:22:09.751153Z",
          "iopub.execute_input": "2025-08-24T21:22:09.751464Z",
          "iopub.status.idle": "2025-08-24T21:22:09.767691Z",
          "shell.execute_reply.started": "2025-08-24T21:22:09.751444Z",
          "shell.execute_reply": "2025-08-24T21:22:09.766962Z"
        },
        "id": "23ATSvRSFZ5_",
        "outputId": "fc43dc7c-3175-4b01-8ff7-96fe48ac7e75"
      },
      "outputs": [
        {
          "execution_count": 34,
          "output_type": "execute_result",
          "data": {
            "text/plain": "      CreditScore  Age  Tenure    Balance  NumOfProducts  HasCrCard  \\\n0             619   42       2       0.00              1          1   \n1             608   41       1   83807.86              1          0   \n2             502   42       8  159660.80              3          1   \n3             699   39       1       0.00              2          0   \n4             850   43       2  125510.82              1          1   \n...           ...  ...     ...        ...            ...        ...   \n9995          771   39       5       0.00              2          1   \n9996          516   35      10   57369.61              1          1   \n9997          709   36       7       0.00              1          0   \n9998          772   42       3   75075.31              2          1   \n9999          792   28       4  130142.79              1          1   \n\n      IsActiveMember  EstimatedSalary  Geography_Germany  Geography_Spain  \\\n0                  1        101348.88              False            False   \n1                  1        112542.58              False             True   \n2                  0        113931.57              False            False   \n3                  0         93826.63              False            False   \n4                  1         79084.10              False             True   \n...              ...              ...                ...              ...   \n9995               0         96270.64              False            False   \n9996               1        101699.77              False            False   \n9997               1         42085.58              False            False   \n9998               0         92888.52               True            False   \n9999               0         38190.78              False            False   \n\n      Gender_Male  \n0           False  \n1           False  \n2           False  \n3           False  \n4           False  \n...           ...  \n9995         True  \n9996         True  \n9997        False  \n9998         True  \n9999        False  \n\n[10000 rows x 11 columns]",
            "text/html": "<div>\n<style scoped>\n    .dataframe tbody tr th:only-of-type {\n        vertical-align: middle;\n    }\n\n    .dataframe tbody tr th {\n        vertical-align: top;\n    }\n\n    .dataframe thead th {\n        text-align: right;\n    }\n</style>\n<table border=\"1\" class=\"dataframe\">\n  <thead>\n    <tr style=\"text-align: right;\">\n      <th></th>\n      <th>CreditScore</th>\n      <th>Age</th>\n      <th>Tenure</th>\n      <th>Balance</th>\n      <th>NumOfProducts</th>\n      <th>HasCrCard</th>\n      <th>IsActiveMember</th>\n      <th>EstimatedSalary</th>\n      <th>Geography_Germany</th>\n      <th>Geography_Spain</th>\n      <th>Gender_Male</th>\n    </tr>\n  </thead>\n  <tbody>\n    <tr>\n      <th>0</th>\n      <td>619</td>\n      <td>42</td>\n      <td>2</td>\n      <td>0.00</td>\n      <td>1</td>\n      <td>1</td>\n      <td>1</td>\n      <td>101348.88</td>\n      <td>False</td>\n      <td>False</td>\n      <td>False</td>\n    </tr>\n    <tr>\n      <th>1</th>\n      <td>608</td>\n      <td>41</td>\n      <td>1</td>\n      <td>83807.86</td>\n      <td>1</td>\n      <td>0</td>\n      <td>1</td>\n      <td>112542.58</td>\n      <td>False</td>\n      <td>True</td>\n      <td>False</td>\n    </tr>\n    <tr>\n      <th>2</th>\n      <td>502</td>\n      <td>42</td>\n      <td>8</td>\n      <td>159660.80</td>\n      <td>3</td>\n      <td>1</td>\n      <td>0</td>\n      <td>113931.57</td>\n      <td>False</td>\n      <td>False</td>\n      <td>False</td>\n    </tr>\n    <tr>\n      <th>3</th>\n      <td>699</td>\n      <td>39</td>\n      <td>1</td>\n      <td>0.00</td>\n      <td>2</td>\n      <td>0</td>\n      <td>0</td>\n      <td>93826.63</td>\n      <td>False</td>\n      <td>False</td>\n      <td>False</td>\n    </tr>\n    <tr>\n      <th>4</th>\n      <td>850</td>\n      <td>43</td>\n      <td>2</td>\n      <td>125510.82</td>\n      <td>1</td>\n      <td>1</td>\n      <td>1</td>\n      <td>79084.10</td>\n      <td>False</td>\n      <td>True</td>\n      <td>False</td>\n    </tr>\n    <tr>\n      <th>...</th>\n      <td>...</td>\n      <td>...</td>\n      <td>...</td>\n      <td>...</td>\n      <td>...</td>\n      <td>...</td>\n      <td>...</td>\n      <td>...</td>\n      <td>...</td>\n      <td>...</td>\n      <td>...</td>\n    </tr>\n    <tr>\n      <th>9995</th>\n      <td>771</td>\n      <td>39</td>\n      <td>5</td>\n      <td>0.00</td>\n      <td>2</td>\n      <td>1</td>\n      <td>0</td>\n      <td>96270.64</td>\n      <td>False</td>\n      <td>False</td>\n      <td>True</td>\n    </tr>\n    <tr>\n      <th>9996</th>\n      <td>516</td>\n      <td>35</td>\n      <td>10</td>\n      <td>57369.61</td>\n      <td>1</td>\n      <td>1</td>\n      <td>1</td>\n      <td>101699.77</td>\n      <td>False</td>\n      <td>False</td>\n      <td>True</td>\n    </tr>\n    <tr>\n      <th>9997</th>\n      <td>709</td>\n      <td>36</td>\n      <td>7</td>\n      <td>0.00</td>\n      <td>1</td>\n      <td>0</td>\n      <td>1</td>\n      <td>42085.58</td>\n      <td>False</td>\n      <td>False</td>\n      <td>False</td>\n    </tr>\n    <tr>\n      <th>9998</th>\n      <td>772</td>\n      <td>42</td>\n      <td>3</td>\n      <td>75075.31</td>\n      <td>2</td>\n      <td>1</td>\n      <td>0</td>\n      <td>92888.52</td>\n      <td>True</td>\n      <td>False</td>\n      <td>True</td>\n    </tr>\n    <tr>\n      <th>9999</th>\n      <td>792</td>\n      <td>28</td>\n      <td>4</td>\n      <td>130142.79</td>\n      <td>1</td>\n      <td>1</td>\n      <td>0</td>\n      <td>38190.78</td>\n      <td>False</td>\n      <td>False</td>\n      <td>False</td>\n    </tr>\n  </tbody>\n</table>\n<p>10000 rows × 11 columns</p>\n</div>"
          },
          "metadata": {}
        }
      ],
      "execution_count": null
    },
    {
      "cell_type": "code",
      "source": [
        "y"
      ],
      "metadata": {
        "trusted": true,
        "execution": {
          "iopub.status.busy": "2025-08-24T21:22:10.830572Z",
          "iopub.execute_input": "2025-08-24T21:22:10.831046Z",
          "iopub.status.idle": "2025-08-24T21:22:10.839271Z",
          "shell.execute_reply.started": "2025-08-24T21:22:10.830963Z",
          "shell.execute_reply": "2025-08-24T21:22:10.838149Z"
        },
        "id": "YiRj_upiFZ5_",
        "outputId": "ab873c59-e78e-4ed1-b5a0-fc34d2558047"
      },
      "outputs": [
        {
          "execution_count": 35,
          "output_type": "execute_result",
          "data": {
            "text/plain": "0       1\n1       0\n2       1\n3       0\n4       0\n       ..\n9995    0\n9996    0\n9997    1\n9998    1\n9999    0\nName: Exited, Length: 10000, dtype: int64"
          },
          "metadata": {}
        }
      ],
      "execution_count": null
    },
    {
      "cell_type": "code",
      "source": [
        "X_train.shape"
      ],
      "metadata": {
        "trusted": true,
        "execution": {
          "iopub.status.busy": "2025-08-24T21:22:13.984971Z",
          "iopub.execute_input": "2025-08-24T21:22:13.985309Z",
          "iopub.status.idle": "2025-08-24T21:22:13.991935Z",
          "shell.execute_reply.started": "2025-08-24T21:22:13.985283Z",
          "shell.execute_reply": "2025-08-24T21:22:13.99076Z"
        },
        "id": "sRK0Nq4RFZ5_",
        "outputId": "29bffddd-daed-4556-8982-f04dc9ff9b07"
      },
      "outputs": [
        {
          "execution_count": 36,
          "output_type": "execute_result",
          "data": {
            "text/plain": "(8000, 11)"
          },
          "metadata": {}
        }
      ],
      "execution_count": null
    },
    {
      "cell_type": "code",
      "source": [
        "from sklearn.preprocessing import StandardScaler\n",
        "scaler = StandardScaler()\n",
        "\n",
        "X_train_scaled = scaler.fit_transform(X_train)\n",
        "X_test_scaled = scaler.transform(X_test)"
      ],
      "metadata": {
        "trusted": true,
        "execution": {
          "iopub.status.busy": "2025-08-24T21:22:14.675191Z",
          "iopub.execute_input": "2025-08-24T21:22:14.675493Z",
          "iopub.status.idle": "2025-08-24T21:22:14.717806Z",
          "shell.execute_reply.started": "2025-08-24T21:22:14.675474Z",
          "shell.execute_reply": "2025-08-24T21:22:14.716966Z"
        },
        "id": "Q6_5Hs5ZFZ6A"
      },
      "outputs": [],
      "execution_count": null
    },
    {
      "cell_type": "code",
      "source": [
        "X_train_scaled"
      ],
      "metadata": {
        "trusted": true,
        "execution": {
          "iopub.status.busy": "2025-08-24T21:22:25.992061Z",
          "iopub.execute_input": "2025-08-24T21:22:25.992379Z",
          "iopub.status.idle": "2025-08-24T21:22:25.999428Z",
          "shell.execute_reply.started": "2025-08-24T21:22:25.992358Z",
          "shell.execute_reply": "2025-08-24T21:22:25.998261Z"
        },
        "id": "bdu_x7INFZ6A",
        "outputId": "a8cb7996-598c-464f-b88a-fd6ba4f3feeb"
      },
      "outputs": [
        {
          "execution_count": 38,
          "output_type": "execute_result",
          "data": {
            "text/plain": "array([[-0.23082038, -0.94449979, -0.70174202, ...,  1.71490137,\n        -0.57273139,  0.91509065],\n       [-0.25150912, -0.94449979, -0.35520275, ..., -0.58312392,\n        -0.57273139, -1.09278791],\n       [-0.3963303 ,  0.77498705,  0.33787579, ...,  1.71490137,\n        -0.57273139, -1.09278791],\n       ...,\n       [ 0.22433188,  0.58393295,  1.3774936 , ..., -0.58312392,\n        -0.57273139, -1.09278791],\n       [ 0.13123255,  0.01077067,  1.03095433, ..., -0.58312392,\n        -0.57273139, -1.09278791],\n       [ 1.1656695 ,  0.29735181,  0.33787579, ...,  1.71490137,\n        -0.57273139,  0.91509065]])"
          },
          "metadata": {}
        }
      ],
      "execution_count": null
    },
    {
      "cell_type": "code",
      "source": [
        "import tensorflow\n",
        "from tensorflow import keras\n",
        "from tensorflow.keras import Sequential\n",
        "from tensorflow.keras.layers import Dense"
      ],
      "metadata": {
        "trusted": true,
        "execution": {
          "iopub.status.busy": "2025-08-24T21:26:20.46705Z",
          "iopub.execute_input": "2025-08-24T21:26:20.467415Z",
          "iopub.status.idle": "2025-08-24T21:26:20.559203Z",
          "shell.execute_reply.started": "2025-08-24T21:26:20.467389Z",
          "shell.execute_reply": "2025-08-24T21:26:20.558238Z"
        },
        "id": "z7qglt6iFZ6A"
      },
      "outputs": [],
      "execution_count": null
    },
    {
      "cell_type": "code",
      "source": [
        "model = Sequential()\n",
        "\n",
        "model.add(Dense(11,activation='relu', input_dim=11))\n",
        "model.add(Dense(11,activation='relu'))\n",
        "model.add(Dense(1,activation='sigmoid'))"
      ],
      "metadata": {
        "trusted": true,
        "execution": {
          "iopub.status.busy": "2025-08-24T21:42:35.69416Z",
          "iopub.execute_input": "2025-08-24T21:42:35.694531Z",
          "iopub.status.idle": "2025-08-24T21:42:35.736321Z",
          "shell.execute_reply.started": "2025-08-24T21:42:35.694505Z",
          "shell.execute_reply": "2025-08-24T21:42:35.735234Z"
        },
        "id": "YIEbCuH3FZ6B"
      },
      "outputs": [],
      "execution_count": null
    },
    {
      "cell_type": "code",
      "source": [
        "model.summary()"
      ],
      "metadata": {
        "trusted": true,
        "execution": {
          "iopub.status.busy": "2025-08-24T21:42:37.223542Z",
          "iopub.execute_input": "2025-08-24T21:42:37.223952Z",
          "iopub.status.idle": "2025-08-24T21:42:37.241795Z",
          "shell.execute_reply.started": "2025-08-24T21:42:37.223911Z",
          "shell.execute_reply": "2025-08-24T21:42:37.240781Z"
        },
        "id": "u3tDMytEFZ6B",
        "outputId": "c73ad97a-18d8-4caf-913d-20cfb17cde1a"
      },
      "outputs": [
        {
          "output_type": "display_data",
          "data": {
            "text/plain": "\u001b[1mModel: \"sequential_3\"\u001b[0m\n",
            "text/html": "<pre style=\"white-space:pre;overflow-x:auto;line-height:normal;font-family:Menlo,'DejaVu Sans Mono',consolas,'Courier New',monospace\"><span style=\"font-weight: bold\">Model: \"sequential_3\"</span>\n</pre>\n"
          },
          "metadata": {}
        },
        {
          "output_type": "display_data",
          "data": {
            "text/plain": "┏━━━━━━━━━━━━━━━━━━━━━━━━━━━━━━━━━┳━━━━━━━━━━━━━━━━━━━━━━━━┳━━━━━━━━━━━━━━━┓\n┃\u001b[1m \u001b[0m\u001b[1mLayer (type)                   \u001b[0m\u001b[1m \u001b[0m┃\u001b[1m \u001b[0m\u001b[1mOutput Shape          \u001b[0m\u001b[1m \u001b[0m┃\u001b[1m \u001b[0m\u001b[1m      Param #\u001b[0m\u001b[1m \u001b[0m┃\n┡━━━━━━━━━━━━━━━━━━━━━━━━━━━━━━━━━╇━━━━━━━━━━━━━━━━━━━━━━━━╇━━━━━━━━━━━━━━━┩\n│ dense_4 (\u001b[38;5;33mDense\u001b[0m)                 │ (\u001b[38;5;45mNone\u001b[0m, \u001b[38;5;34m11\u001b[0m)             │           \u001b[38;5;34m132\u001b[0m │\n├─────────────────────────────────┼────────────────────────┼───────────────┤\n│ dense_5 (\u001b[38;5;33mDense\u001b[0m)                 │ (\u001b[38;5;45mNone\u001b[0m, \u001b[38;5;34m11\u001b[0m)             │           \u001b[38;5;34m132\u001b[0m │\n├─────────────────────────────────┼────────────────────────┼───────────────┤\n│ dense_6 (\u001b[38;5;33mDense\u001b[0m)                 │ (\u001b[38;5;45mNone\u001b[0m, \u001b[38;5;34m1\u001b[0m)              │            \u001b[38;5;34m12\u001b[0m │\n└─────────────────────────────────┴────────────────────────┴───────────────┘\n",
            "text/html": "<pre style=\"white-space:pre;overflow-x:auto;line-height:normal;font-family:Menlo,'DejaVu Sans Mono',consolas,'Courier New',monospace\">┏━━━━━━━━━━━━━━━━━━━━━━━━━━━━━━━━━┳━━━━━━━━━━━━━━━━━━━━━━━━┳━━━━━━━━━━━━━━━┓\n┃<span style=\"font-weight: bold\"> Layer (type)                    </span>┃<span style=\"font-weight: bold\"> Output Shape           </span>┃<span style=\"font-weight: bold\">       Param # </span>┃\n┡━━━━━━━━━━━━━━━━━━━━━━━━━━━━━━━━━╇━━━━━━━━━━━━━━━━━━━━━━━━╇━━━━━━━━━━━━━━━┩\n│ dense_4 (<span style=\"color: #0087ff; text-decoration-color: #0087ff\">Dense</span>)                 │ (<span style=\"color: #00d7ff; text-decoration-color: #00d7ff\">None</span>, <span style=\"color: #00af00; text-decoration-color: #00af00\">11</span>)             │           <span style=\"color: #00af00; text-decoration-color: #00af00\">132</span> │\n├─────────────────────────────────┼────────────────────────┼───────────────┤\n│ dense_5 (<span style=\"color: #0087ff; text-decoration-color: #0087ff\">Dense</span>)                 │ (<span style=\"color: #00d7ff; text-decoration-color: #00d7ff\">None</span>, <span style=\"color: #00af00; text-decoration-color: #00af00\">11</span>)             │           <span style=\"color: #00af00; text-decoration-color: #00af00\">132</span> │\n├─────────────────────────────────┼────────────────────────┼───────────────┤\n│ dense_6 (<span style=\"color: #0087ff; text-decoration-color: #0087ff\">Dense</span>)                 │ (<span style=\"color: #00d7ff; text-decoration-color: #00d7ff\">None</span>, <span style=\"color: #00af00; text-decoration-color: #00af00\">1</span>)              │            <span style=\"color: #00af00; text-decoration-color: #00af00\">12</span> │\n└─────────────────────────────────┴────────────────────────┴───────────────┘\n</pre>\n"
          },
          "metadata": {}
        },
        {
          "output_type": "display_data",
          "data": {
            "text/plain": "\u001b[1m Total params: \u001b[0m\u001b[38;5;34m276\u001b[0m (1.08 KB)\n",
            "text/html": "<pre style=\"white-space:pre;overflow-x:auto;line-height:normal;font-family:Menlo,'DejaVu Sans Mono',consolas,'Courier New',monospace\"><span style=\"font-weight: bold\"> Total params: </span><span style=\"color: #00af00; text-decoration-color: #00af00\">276</span> (1.08 KB)\n</pre>\n"
          },
          "metadata": {}
        },
        {
          "output_type": "display_data",
          "data": {
            "text/plain": "\u001b[1m Trainable params: \u001b[0m\u001b[38;5;34m276\u001b[0m (1.08 KB)\n",
            "text/html": "<pre style=\"white-space:pre;overflow-x:auto;line-height:normal;font-family:Menlo,'DejaVu Sans Mono',consolas,'Courier New',monospace\"><span style=\"font-weight: bold\"> Trainable params: </span><span style=\"color: #00af00; text-decoration-color: #00af00\">276</span> (1.08 KB)\n</pre>\n"
          },
          "metadata": {}
        },
        {
          "output_type": "display_data",
          "data": {
            "text/plain": "\u001b[1m Non-trainable params: \u001b[0m\u001b[38;5;34m0\u001b[0m (0.00 B)\n",
            "text/html": "<pre style=\"white-space:pre;overflow-x:auto;line-height:normal;font-family:Menlo,'DejaVu Sans Mono',consolas,'Courier New',monospace\"><span style=\"font-weight: bold\"> Non-trainable params: </span><span style=\"color: #00af00; text-decoration-color: #00af00\">0</span> (0.00 B)\n</pre>\n"
          },
          "metadata": {}
        }
      ],
      "execution_count": null
    },
    {
      "cell_type": "code",
      "source": [
        "model.compile(loss='binary_crossentropy', optimizer='Adam', metrics=['accuracy'])"
      ],
      "metadata": {
        "trusted": true,
        "execution": {
          "iopub.status.busy": "2025-08-24T21:44:47.882724Z",
          "iopub.execute_input": "2025-08-24T21:44:47.883113Z",
          "iopub.status.idle": "2025-08-24T21:44:47.898133Z",
          "shell.execute_reply.started": "2025-08-24T21:44:47.883075Z",
          "shell.execute_reply": "2025-08-24T21:44:47.896856Z"
        },
        "id": "wEPZ553mFZ6B"
      },
      "outputs": [],
      "execution_count": null
    },
    {
      "cell_type": "code",
      "source": [
        "history = model.fit(X_train_scaled, y_train, epochs=100, validation_split=0.2)\n"
      ],
      "metadata": {
        "trusted": true,
        "execution": {
          "iopub.status.busy": "2025-08-24T21:49:27.956435Z",
          "iopub.execute_input": "2025-08-24T21:49:27.956743Z",
          "iopub.status.idle": "2025-08-24T21:50:36.248236Z",
          "shell.execute_reply.started": "2025-08-24T21:49:27.956721Z",
          "shell.execute_reply": "2025-08-24T21:50:36.247221Z"
        },
        "id": "uQFz6opYFZ6C",
        "outputId": "62b7e510-eed1-430a-e10c-10e8538d050a"
      },
      "outputs": [
        {
          "name": "stdout",
          "text": "Epoch 1/100\n\u001b[1m200/200\u001b[0m \u001b[32m━━━━━━━━━━━━━━━━━━━━\u001b[0m\u001b[37m\u001b[0m \u001b[1m1s\u001b[0m 3ms/step - accuracy: 0.8671 - loss: 0.3244 - val_accuracy: 0.8519 - val_loss: 0.3488\nEpoch 2/100\n\u001b[1m200/200\u001b[0m \u001b[32m━━━━━━━━━━━━━━━━━━━━\u001b[0m\u001b[37m\u001b[0m \u001b[1m1s\u001b[0m 4ms/step - accuracy: 0.8774 - loss: 0.3114 - val_accuracy: 0.8519 - val_loss: 0.3490\nEpoch 3/100\n\u001b[1m200/200\u001b[0m \u001b[32m━━━━━━━━━━━━━━━━━━━━\u001b[0m\u001b[37m\u001b[0m \u001b[1m1s\u001b[0m 5ms/step - accuracy: 0.8558 - loss: 0.3349 - val_accuracy: 0.8525 - val_loss: 0.3503\nEpoch 4/100\n\u001b[1m200/200\u001b[0m \u001b[32m━━━━━━━━━━━━━━━━━━━━\u001b[0m\u001b[37m\u001b[0m \u001b[1m1s\u001b[0m 4ms/step - accuracy: 0.8704 - loss: 0.3049 - val_accuracy: 0.8512 - val_loss: 0.3496\nEpoch 5/100\n\u001b[1m200/200\u001b[0m \u001b[32m━━━━━━━━━━━━━━━━━━━━\u001b[0m\u001b[37m\u001b[0m \u001b[1m1s\u001b[0m 5ms/step - accuracy: 0.8590 - loss: 0.3388 - val_accuracy: 0.8506 - val_loss: 0.3519\nEpoch 6/100\n\u001b[1m200/200\u001b[0m \u001b[32m━━━━━━━━━━━━━━━━━━━━\u001b[0m\u001b[37m\u001b[0m \u001b[1m1s\u001b[0m 4ms/step - accuracy: 0.8644 - loss: 0.3301 - val_accuracy: 0.8519 - val_loss: 0.3490\nEpoch 7/100\n\u001b[1m200/200\u001b[0m \u001b[32m━━━━━━━━━━━━━━━━━━━━\u001b[0m\u001b[37m\u001b[0m \u001b[1m1s\u001b[0m 3ms/step - accuracy: 0.8605 - loss: 0.3213 - val_accuracy: 0.8494 - val_loss: 0.3516\nEpoch 8/100\n\u001b[1m200/200\u001b[0m \u001b[32m━━━━━━━━━━━━━━━━━━━━\u001b[0m\u001b[37m\u001b[0m \u001b[1m1s\u001b[0m 3ms/step - accuracy: 0.8670 - loss: 0.3239 - val_accuracy: 0.8519 - val_loss: 0.3490\nEpoch 9/100\n\u001b[1m200/200\u001b[0m \u001b[32m━━━━━━━━━━━━━━━━━━━━\u001b[0m\u001b[37m\u001b[0m \u001b[1m1s\u001b[0m 3ms/step - accuracy: 0.8789 - loss: 0.3095 - val_accuracy: 0.8519 - val_loss: 0.3491\nEpoch 10/100\n\u001b[1m200/200\u001b[0m \u001b[32m━━━━━━━━━━━━━━━━━━━━\u001b[0m\u001b[37m\u001b[0m \u001b[1m1s\u001b[0m 3ms/step - accuracy: 0.8705 - loss: 0.3114 - val_accuracy: 0.8506 - val_loss: 0.3507\nEpoch 11/100\n\u001b[1m200/200\u001b[0m \u001b[32m━━━━━━━━━━━━━━━━━━━━\u001b[0m\u001b[37m\u001b[0m \u001b[1m1s\u001b[0m 3ms/step - accuracy: 0.8626 - loss: 0.3305 - val_accuracy: 0.8506 - val_loss: 0.3507\nEpoch 12/100\n\u001b[1m200/200\u001b[0m \u001b[32m━━━━━━━━━━━━━━━━━━━━\u001b[0m\u001b[37m\u001b[0m \u001b[1m1s\u001b[0m 3ms/step - accuracy: 0.8726 - loss: 0.3141 - val_accuracy: 0.8512 - val_loss: 0.3497\nEpoch 13/100\n\u001b[1m200/200\u001b[0m \u001b[32m━━━━━━━━━━━━━━━━━━━━\u001b[0m\u001b[37m\u001b[0m \u001b[1m1s\u001b[0m 3ms/step - accuracy: 0.8699 - loss: 0.3137 - val_accuracy: 0.8519 - val_loss: 0.3503\nEpoch 14/100\n\u001b[1m200/200\u001b[0m \u001b[32m━━━━━━━━━━━━━━━━━━━━\u001b[0m\u001b[37m\u001b[0m \u001b[1m1s\u001b[0m 3ms/step - accuracy: 0.8647 - loss: 0.3261 - val_accuracy: 0.8512 - val_loss: 0.3503\nEpoch 15/100\n\u001b[1m200/200\u001b[0m \u001b[32m━━━━━━━━━━━━━━━━━━━━\u001b[0m\u001b[37m\u001b[0m \u001b[1m1s\u001b[0m 3ms/step - accuracy: 0.8634 - loss: 0.3248 - val_accuracy: 0.8494 - val_loss: 0.3516\nEpoch 16/100\n\u001b[1m200/200\u001b[0m \u001b[32m━━━━━━━━━━━━━━━━━━━━\u001b[0m\u001b[37m\u001b[0m \u001b[1m1s\u001b[0m 3ms/step - accuracy: 0.8720 - loss: 0.3171 - val_accuracy: 0.8481 - val_loss: 0.3515\nEpoch 17/100\n\u001b[1m200/200\u001b[0m \u001b[32m━━━━━━━━━━━━━━━━━━━━\u001b[0m\u001b[37m\u001b[0m \u001b[1m1s\u001b[0m 3ms/step - accuracy: 0.8679 - loss: 0.3206 - val_accuracy: 0.8506 - val_loss: 0.3506\nEpoch 18/100\n\u001b[1m200/200\u001b[0m \u001b[32m━━━━━━━━━━━━━━━━━━━━\u001b[0m\u001b[37m\u001b[0m \u001b[1m1s\u001b[0m 3ms/step - accuracy: 0.8608 - loss: 0.3285 - val_accuracy: 0.8481 - val_loss: 0.3509\nEpoch 19/100\n\u001b[1m200/200\u001b[0m \u001b[32m━━━━━━━━━━━━━━━━━━━━\u001b[0m\u001b[37m\u001b[0m \u001b[1m1s\u001b[0m 4ms/step - accuracy: 0.8746 - loss: 0.3058 - val_accuracy: 0.8512 - val_loss: 0.3516\nEpoch 20/100\n\u001b[1m200/200\u001b[0m \u001b[32m━━━━━━━━━━━━━━━━━━━━\u001b[0m\u001b[37m\u001b[0m \u001b[1m1s\u001b[0m 4ms/step - accuracy: 0.8747 - loss: 0.3114 - val_accuracy: 0.8519 - val_loss: 0.3506\nEpoch 21/100\n\u001b[1m200/200\u001b[0m \u001b[32m━━━━━━━━━━━━━━━━━━━━\u001b[0m\u001b[37m\u001b[0m \u001b[1m1s\u001b[0m 4ms/step - accuracy: 0.8682 - loss: 0.3215 - val_accuracy: 0.8512 - val_loss: 0.3520\nEpoch 22/100\n\u001b[1m200/200\u001b[0m \u001b[32m━━━━━━━━━━━━━━━━━━━━\u001b[0m\u001b[37m\u001b[0m \u001b[1m1s\u001b[0m 3ms/step - accuracy: 0.8657 - loss: 0.3222 - val_accuracy: 0.8512 - val_loss: 0.3515\nEpoch 23/100\n\u001b[1m200/200\u001b[0m \u001b[32m━━━━━━━━━━━━━━━━━━━━\u001b[0m\u001b[37m\u001b[0m \u001b[1m1s\u001b[0m 3ms/step - accuracy: 0.8697 - loss: 0.3131 - val_accuracy: 0.8506 - val_loss: 0.3524\nEpoch 24/100\n\u001b[1m200/200\u001b[0m \u001b[32m━━━━━━━━━━━━━━━━━━━━\u001b[0m\u001b[37m\u001b[0m \u001b[1m1s\u001b[0m 3ms/step - accuracy: 0.8716 - loss: 0.3136 - val_accuracy: 0.8494 - val_loss: 0.3500\nEpoch 25/100\n\u001b[1m200/200\u001b[0m \u001b[32m━━━━━━━━━━━━━━━━━━━━\u001b[0m\u001b[37m\u001b[0m \u001b[1m1s\u001b[0m 3ms/step - accuracy: 0.8687 - loss: 0.3136 - val_accuracy: 0.8519 - val_loss: 0.3520\nEpoch 26/100\n\u001b[1m200/200\u001b[0m \u001b[32m━━━━━━━━━━━━━━━━━━━━\u001b[0m\u001b[37m\u001b[0m \u001b[1m1s\u001b[0m 3ms/step - accuracy: 0.8649 - loss: 0.3266 - val_accuracy: 0.8512 - val_loss: 0.3510\nEpoch 27/100\n\u001b[1m200/200\u001b[0m \u001b[32m━━━━━━━━━━━━━━━━━━━━\u001b[0m\u001b[37m\u001b[0m \u001b[1m1s\u001b[0m 3ms/step - accuracy: 0.8749 - loss: 0.3066 - val_accuracy: 0.8500 - val_loss: 0.3517\nEpoch 28/100\n\u001b[1m200/200\u001b[0m \u001b[32m━━━━━━━━━━━━━━━━━━━━\u001b[0m\u001b[37m\u001b[0m \u001b[1m1s\u001b[0m 3ms/step - accuracy: 0.8685 - loss: 0.3180 - val_accuracy: 0.8506 - val_loss: 0.3545\nEpoch 29/100\n\u001b[1m200/200\u001b[0m \u001b[32m━━━━━━━━━━━━━━━━━━━━\u001b[0m\u001b[37m\u001b[0m \u001b[1m1s\u001b[0m 3ms/step - accuracy: 0.8721 - loss: 0.3032 - val_accuracy: 0.8481 - val_loss: 0.3536\nEpoch 30/100\n\u001b[1m200/200\u001b[0m \u001b[32m━━━━━━━━━━━━━━━━━━━━\u001b[0m\u001b[37m\u001b[0m \u001b[1m1s\u001b[0m 3ms/step - accuracy: 0.8671 - loss: 0.3152 - val_accuracy: 0.8500 - val_loss: 0.3540\nEpoch 31/100\n\u001b[1m200/200\u001b[0m \u001b[32m━━━━━━━━━━━━━━━━━━━━\u001b[0m\u001b[37m\u001b[0m \u001b[1m1s\u001b[0m 3ms/step - accuracy: 0.8705 - loss: 0.3144 - val_accuracy: 0.8506 - val_loss: 0.3530\nEpoch 32/100\n\u001b[1m200/200\u001b[0m \u001b[32m━━━━━━━━━━━━━━━━━━━━\u001b[0m\u001b[37m\u001b[0m \u001b[1m1s\u001b[0m 3ms/step - accuracy: 0.8665 - loss: 0.3152 - val_accuracy: 0.8512 - val_loss: 0.3520\nEpoch 33/100\n\u001b[1m200/200\u001b[0m \u001b[32m━━━━━━━━━━━━━━━━━━━━\u001b[0m\u001b[37m\u001b[0m \u001b[1m1s\u001b[0m 3ms/step - accuracy: 0.8664 - loss: 0.3197 - val_accuracy: 0.8519 - val_loss: 0.3524\nEpoch 34/100\n\u001b[1m200/200\u001b[0m \u001b[32m━━━━━━━━━━━━━━━━━━━━\u001b[0m\u001b[37m\u001b[0m \u001b[1m1s\u001b[0m 3ms/step - accuracy: 0.8671 - loss: 0.3196 - val_accuracy: 0.8500 - val_loss: 0.3532\nEpoch 35/100\n\u001b[1m200/200\u001b[0m \u001b[32m━━━━━━━━━━━━━━━━━━━━\u001b[0m\u001b[37m\u001b[0m \u001b[1m1s\u001b[0m 3ms/step - accuracy: 0.8721 - loss: 0.3128 - val_accuracy: 0.8506 - val_loss: 0.3527\nEpoch 36/100\n\u001b[1m200/200\u001b[0m \u001b[32m━━━━━━━━━━━━━━━━━━━━\u001b[0m\u001b[37m\u001b[0m \u001b[1m1s\u001b[0m 3ms/step - accuracy: 0.8639 - loss: 0.3255 - val_accuracy: 0.8506 - val_loss: 0.3533\nEpoch 37/100\n\u001b[1m200/200\u001b[0m \u001b[32m━━━━━━━━━━━━━━━━━━━━\u001b[0m\u001b[37m\u001b[0m \u001b[1m1s\u001b[0m 3ms/step - accuracy: 0.8545 - loss: 0.3283 - val_accuracy: 0.8500 - val_loss: 0.3522\nEpoch 38/100\n\u001b[1m200/200\u001b[0m \u001b[32m━━━━━━━━━━━━━━━━━━━━\u001b[0m\u001b[37m\u001b[0m \u001b[1m1s\u001b[0m 3ms/step - accuracy: 0.8656 - loss: 0.3194 - val_accuracy: 0.8500 - val_loss: 0.3528\nEpoch 39/100\n\u001b[1m200/200\u001b[0m \u001b[32m━━━━━━━━━━━━━━━━━━━━\u001b[0m\u001b[37m\u001b[0m \u001b[1m1s\u001b[0m 3ms/step - accuracy: 0.8655 - loss: 0.3223 - val_accuracy: 0.8512 - val_loss: 0.3528\nEpoch 40/100\n\u001b[1m200/200\u001b[0m \u001b[32m━━━━━━━━━━━━━━━━━━━━\u001b[0m\u001b[37m\u001b[0m \u001b[1m1s\u001b[0m 3ms/step - accuracy: 0.8703 - loss: 0.3180 - val_accuracy: 0.8519 - val_loss: 0.3509\nEpoch 41/100\n\u001b[1m200/200\u001b[0m \u001b[32m━━━━━━━━━━━━━━━━━━━━\u001b[0m\u001b[37m\u001b[0m \u001b[1m1s\u001b[0m 3ms/step - accuracy: 0.8694 - loss: 0.3053 - val_accuracy: 0.8494 - val_loss: 0.3537\nEpoch 42/100\n\u001b[1m200/200\u001b[0m \u001b[32m━━━━━━━━━━━━━━━━━━━━\u001b[0m\u001b[37m\u001b[0m \u001b[1m1s\u001b[0m 3ms/step - accuracy: 0.8702 - loss: 0.3088 - val_accuracy: 0.8512 - val_loss: 0.3540\nEpoch 43/100\n\u001b[1m200/200\u001b[0m \u001b[32m━━━━━━━━━━━━━━━━━━━━\u001b[0m\u001b[37m\u001b[0m \u001b[1m1s\u001b[0m 3ms/step - accuracy: 0.8683 - loss: 0.3126 - val_accuracy: 0.8519 - val_loss: 0.3543\nEpoch 44/100\n\u001b[1m200/200\u001b[0m \u001b[32m━━━━━━━━━━━━━━━━━━━━\u001b[0m\u001b[37m\u001b[0m \u001b[1m1s\u001b[0m 3ms/step - accuracy: 0.8702 - loss: 0.3155 - val_accuracy: 0.8500 - val_loss: 0.3549\nEpoch 45/100\n\u001b[1m200/200\u001b[0m \u001b[32m━━━━━━━━━━━━━━━━━━━━\u001b[0m\u001b[37m\u001b[0m \u001b[1m1s\u001b[0m 3ms/step - accuracy: 0.8685 - loss: 0.3246 - val_accuracy: 0.8487 - val_loss: 0.3558\nEpoch 46/100\n\u001b[1m200/200\u001b[0m \u001b[32m━━━━━━━━━━━━━━━━━━━━\u001b[0m\u001b[37m\u001b[0m \u001b[1m1s\u001b[0m 3ms/step - accuracy: 0.8593 - loss: 0.3344 - val_accuracy: 0.8481 - val_loss: 0.3540\nEpoch 47/100\n\u001b[1m200/200\u001b[0m \u001b[32m━━━━━━━━━━━━━━━━━━━━\u001b[0m\u001b[37m\u001b[0m \u001b[1m1s\u001b[0m 3ms/step - accuracy: 0.8656 - loss: 0.3231 - val_accuracy: 0.8519 - val_loss: 0.3533\nEpoch 48/100\n\u001b[1m200/200\u001b[0m \u001b[32m━━━━━━━━━━━━━━━━━━━━\u001b[0m\u001b[37m\u001b[0m \u001b[1m1s\u001b[0m 4ms/step - accuracy: 0.8693 - loss: 0.3168 - val_accuracy: 0.8544 - val_loss: 0.3536\nEpoch 49/100\n\u001b[1m200/200\u001b[0m \u001b[32m━━━━━━━━━━━━━━━━━━━━\u001b[0m\u001b[37m\u001b[0m \u001b[1m1s\u001b[0m 4ms/step - accuracy: 0.8756 - loss: 0.3073 - val_accuracy: 0.8506 - val_loss: 0.3546\nEpoch 50/100\n\u001b[1m200/200\u001b[0m \u001b[32m━━━━━━━━━━━━━━━━━━━━\u001b[0m\u001b[37m\u001b[0m \u001b[1m1s\u001b[0m 4ms/step - accuracy: 0.8714 - loss: 0.3110 - val_accuracy: 0.8519 - val_loss: 0.3535\nEpoch 51/100\n\u001b[1m200/200\u001b[0m \u001b[32m━━━━━━━━━━━━━━━━━━━━\u001b[0m\u001b[37m\u001b[0m \u001b[1m1s\u001b[0m 4ms/step - accuracy: 0.8763 - loss: 0.3039 - val_accuracy: 0.8506 - val_loss: 0.3544\nEpoch 52/100\n\u001b[1m200/200\u001b[0m \u001b[32m━━━━━━━━━━━━━━━━━━━━\u001b[0m\u001b[37m\u001b[0m \u001b[1m1s\u001b[0m 3ms/step - accuracy: 0.8635 - loss: 0.3261 - val_accuracy: 0.8512 - val_loss: 0.3539\nEpoch 53/100\n\u001b[1m200/200\u001b[0m \u001b[32m━━━━━━━━━━━━━━━━━━━━\u001b[0m\u001b[37m\u001b[0m \u001b[1m1s\u001b[0m 4ms/step - accuracy: 0.8697 - loss: 0.3162 - val_accuracy: 0.8519 - val_loss: 0.3560\nEpoch 54/100\n\u001b[1m200/200\u001b[0m \u001b[32m━━━━━━━━━━━━━━━━━━━━\u001b[0m\u001b[37m\u001b[0m \u001b[1m1s\u001b[0m 3ms/step - accuracy: 0.8605 - loss: 0.3264 - val_accuracy: 0.8512 - val_loss: 0.3541\nEpoch 55/100\n\u001b[1m200/200\u001b[0m \u001b[32m━━━━━━━━━━━━━━━━━━━━\u001b[0m\u001b[37m\u001b[0m \u001b[1m1s\u001b[0m 3ms/step - accuracy: 0.8657 - loss: 0.3161 - val_accuracy: 0.8487 - val_loss: 0.3560\nEpoch 56/100\n\u001b[1m200/200\u001b[0m \u001b[32m━━━━━━━━━━━━━━━━━━━━\u001b[0m\u001b[37m\u001b[0m \u001b[1m1s\u001b[0m 4ms/step - accuracy: 0.8609 - loss: 0.3252 - val_accuracy: 0.8481 - val_loss: 0.3545\nEpoch 57/100\n\u001b[1m200/200\u001b[0m \u001b[32m━━━━━━━━━━━━━━━━━━━━\u001b[0m\u001b[37m\u001b[0m \u001b[1m1s\u001b[0m 4ms/step - accuracy: 0.8693 - loss: 0.3140 - val_accuracy: 0.8481 - val_loss: 0.3551\nEpoch 58/100\n\u001b[1m200/200\u001b[0m \u001b[32m━━━━━━━━━━━━━━━━━━━━\u001b[0m\u001b[37m\u001b[0m \u001b[1m1s\u001b[0m 3ms/step - accuracy: 0.8674 - loss: 0.3121 - val_accuracy: 0.8469 - val_loss: 0.3578\nEpoch 59/100\n\u001b[1m200/200\u001b[0m \u001b[32m━━━━━━━━━━━━━━━━━━━━\u001b[0m\u001b[37m\u001b[0m \u001b[1m1s\u001b[0m 3ms/step - accuracy: 0.8744 - loss: 0.3092 - val_accuracy: 0.8506 - val_loss: 0.3531\nEpoch 60/100\n\u001b[1m200/200\u001b[0m \u001b[32m━━━━━━━━━━━━━━━━━━━━\u001b[0m\u001b[37m\u001b[0m \u001b[1m1s\u001b[0m 3ms/step - accuracy: 0.8658 - loss: 0.3180 - val_accuracy: 0.8525 - val_loss: 0.3543\nEpoch 61/100\n\u001b[1m200/200\u001b[0m \u001b[32m━━━━━━━━━━━━━━━━━━━━\u001b[0m\u001b[37m\u001b[0m \u001b[1m1s\u001b[0m 3ms/step - accuracy: 0.8742 - loss: 0.3150 - val_accuracy: 0.8500 - val_loss: 0.3559\nEpoch 62/100\n\u001b[1m200/200\u001b[0m \u001b[32m━━━━━━━━━━━━━━━━━━━━\u001b[0m\u001b[37m\u001b[0m \u001b[1m1s\u001b[0m 3ms/step - accuracy: 0.8666 - loss: 0.3178 - val_accuracy: 0.8506 - val_loss: 0.3545\nEpoch 63/100\n\u001b[1m200/200\u001b[0m \u001b[32m━━━━━━━━━━━━━━━━━━━━\u001b[0m\u001b[37m\u001b[0m \u001b[1m1s\u001b[0m 3ms/step - accuracy: 0.8616 - loss: 0.3240 - val_accuracy: 0.8512 - val_loss: 0.3540\nEpoch 64/100\n\u001b[1m200/200\u001b[0m \u001b[32m━━━━━━━━━━━━━━━━━━━━\u001b[0m\u001b[37m\u001b[0m \u001b[1m1s\u001b[0m 3ms/step - accuracy: 0.8752 - loss: 0.2994 - val_accuracy: 0.8506 - val_loss: 0.3545\nEpoch 65/100\n\u001b[1m200/200\u001b[0m \u001b[32m━━━━━━━━━━━━━━━━━━━━\u001b[0m\u001b[37m\u001b[0m \u001b[1m1s\u001b[0m 3ms/step - accuracy: 0.8645 - loss: 0.3249 - val_accuracy: 0.8487 - val_loss: 0.3548\nEpoch 66/100\n\u001b[1m200/200\u001b[0m \u001b[32m━━━━━━━━━━━━━━━━━━━━\u001b[0m\u001b[37m\u001b[0m \u001b[1m1s\u001b[0m 3ms/step - accuracy: 0.8838 - loss: 0.2990 - val_accuracy: 0.8500 - val_loss: 0.3544\nEpoch 67/100\n\u001b[1m200/200\u001b[0m \u001b[32m━━━━━━━━━━━━━━━━━━━━\u001b[0m\u001b[37m\u001b[0m \u001b[1m1s\u001b[0m 3ms/step - accuracy: 0.8669 - loss: 0.3260 - val_accuracy: 0.8494 - val_loss: 0.3541\nEpoch 68/100\n\u001b[1m200/200\u001b[0m \u001b[32m━━━━━━━━━━━━━━━━━━━━\u001b[0m\u001b[37m\u001b[0m \u001b[1m1s\u001b[0m 3ms/step - accuracy: 0.8729 - loss: 0.3141 - val_accuracy: 0.8500 - val_loss: 0.3552\nEpoch 69/100\n\u001b[1m200/200\u001b[0m \u001b[32m━━━━━━━━━━━━━━━━━━━━\u001b[0m\u001b[37m\u001b[0m \u001b[1m1s\u001b[0m 3ms/step - accuracy: 0.8721 - loss: 0.3171 - val_accuracy: 0.8506 - val_loss: 0.3543\nEpoch 70/100\n\u001b[1m200/200\u001b[0m \u001b[32m━━━━━━━━━━━━━━━━━━━━\u001b[0m\u001b[37m\u001b[0m \u001b[1m1s\u001b[0m 3ms/step - accuracy: 0.8698 - loss: 0.3178 - val_accuracy: 0.8494 - val_loss: 0.3545\nEpoch 71/100\n\u001b[1m200/200\u001b[0m \u001b[32m━━━━━━━━━━━━━━━━━━━━\u001b[0m\u001b[37m\u001b[0m \u001b[1m1s\u001b[0m 3ms/step - accuracy: 0.8667 - loss: 0.3080 - val_accuracy: 0.8494 - val_loss: 0.3554\nEpoch 72/100\n\u001b[1m200/200\u001b[0m \u001b[32m━━━━━━━━━━━━━━━━━━━━\u001b[0m\u001b[37m\u001b[0m \u001b[1m1s\u001b[0m 3ms/step - accuracy: 0.8641 - loss: 0.3213 - val_accuracy: 0.8500 - val_loss: 0.3544\nEpoch 73/100\n\u001b[1m200/200\u001b[0m \u001b[32m━━━━━━━━━━━━━━━━━━━━\u001b[0m\u001b[37m\u001b[0m \u001b[1m1s\u001b[0m 3ms/step - accuracy: 0.8686 - loss: 0.3098 - val_accuracy: 0.8519 - val_loss: 0.3571\nEpoch 74/100\n\u001b[1m200/200\u001b[0m \u001b[32m━━━━━━━━━━━━━━━━━━━━\u001b[0m\u001b[37m\u001b[0m \u001b[1m1s\u001b[0m 3ms/step - accuracy: 0.8681 - loss: 0.3138 - val_accuracy: 0.8512 - val_loss: 0.3558\nEpoch 75/100\n\u001b[1m200/200\u001b[0m \u001b[32m━━━━━━━━━━━━━━━━━━━━\u001b[0m\u001b[37m\u001b[0m \u001b[1m1s\u001b[0m 3ms/step - accuracy: 0.8687 - loss: 0.3167 - val_accuracy: 0.8494 - val_loss: 0.3545\nEpoch 76/100\n\u001b[1m200/200\u001b[0m \u001b[32m━━━━━━━━━━━━━━━━━━━━\u001b[0m\u001b[37m\u001b[0m \u001b[1m1s\u001b[0m 3ms/step - accuracy: 0.8647 - loss: 0.3238 - val_accuracy: 0.8525 - val_loss: 0.3533\nEpoch 77/100\n\u001b[1m200/200\u001b[0m \u001b[32m━━━━━━━━━━━━━━━━━━━━\u001b[0m\u001b[37m\u001b[0m \u001b[1m1s\u001b[0m 3ms/step - accuracy: 0.8643 - loss: 0.3270 - val_accuracy: 0.8519 - val_loss: 0.3538\nEpoch 78/100\n\u001b[1m200/200\u001b[0m \u001b[32m━━━━━━━━━━━━━━━━━━━━\u001b[0m\u001b[37m\u001b[0m \u001b[1m1s\u001b[0m 3ms/step - accuracy: 0.8666 - loss: 0.3181 - val_accuracy: 0.8506 - val_loss: 0.3552\nEpoch 79/100\n\u001b[1m200/200\u001b[0m \u001b[32m━━━━━━━━━━━━━━━━━━━━\u001b[0m\u001b[37m\u001b[0m \u001b[1m1s\u001b[0m 3ms/step - accuracy: 0.8733 - loss: 0.3164 - val_accuracy: 0.8525 - val_loss: 0.3557\nEpoch 80/100\n\u001b[1m200/200\u001b[0m \u001b[32m━━━━━━━━━━━━━━━━━━━━\u001b[0m\u001b[37m\u001b[0m \u001b[1m1s\u001b[0m 3ms/step - accuracy: 0.8726 - loss: 0.3126 - val_accuracy: 0.8500 - val_loss: 0.3559\nEpoch 81/100\n\u001b[1m200/200\u001b[0m \u001b[32m━━━━━━━━━━━━━━━━━━━━\u001b[0m\u001b[37m\u001b[0m \u001b[1m1s\u001b[0m 3ms/step - accuracy: 0.8653 - loss: 0.3197 - val_accuracy: 0.8512 - val_loss: 0.3556\nEpoch 82/100\n\u001b[1m200/200\u001b[0m \u001b[32m━━━━━━━━━━━━━━━━━━━━\u001b[0m\u001b[37m\u001b[0m \u001b[1m1s\u001b[0m 3ms/step - accuracy: 0.8712 - loss: 0.3071 - val_accuracy: 0.8519 - val_loss: 0.3550\nEpoch 83/100\n\u001b[1m200/200\u001b[0m \u001b[32m━━━━━━━━━━━━━━━━━━━━\u001b[0m\u001b[37m\u001b[0m \u001b[1m1s\u001b[0m 3ms/step - accuracy: 0.8635 - loss: 0.3245 - val_accuracy: 0.8519 - val_loss: 0.3549\nEpoch 84/100\n\u001b[1m200/200\u001b[0m \u001b[32m━━━━━━━━━━━━━━━━━━━━\u001b[0m\u001b[37m\u001b[0m \u001b[1m1s\u001b[0m 3ms/step - accuracy: 0.8720 - loss: 0.3099 - val_accuracy: 0.8506 - val_loss: 0.3553\nEpoch 85/100\n\u001b[1m200/200\u001b[0m \u001b[32m━━━━━━━━━━━━━━━━━━━━\u001b[0m\u001b[37m\u001b[0m \u001b[1m1s\u001b[0m 3ms/step - accuracy: 0.8639 - loss: 0.3161 - val_accuracy: 0.8500 - val_loss: 0.3550\nEpoch 86/100\n\u001b[1m200/200\u001b[0m \u001b[32m━━━━━━━━━━━━━━━━━━━━\u001b[0m\u001b[37m\u001b[0m \u001b[1m1s\u001b[0m 3ms/step - accuracy: 0.8716 - loss: 0.3052 - val_accuracy: 0.8475 - val_loss: 0.3565\nEpoch 87/100\n\u001b[1m200/200\u001b[0m \u001b[32m━━━━━━━━━━━━━━━━━━━━\u001b[0m\u001b[37m\u001b[0m \u001b[1m1s\u001b[0m 4ms/step - accuracy: 0.8645 - loss: 0.3255 - val_accuracy: 0.8506 - val_loss: 0.3566\nEpoch 88/100\n\u001b[1m200/200\u001b[0m \u001b[32m━━━━━━━━━━━━━━━━━━━━\u001b[0m\u001b[37m\u001b[0m \u001b[1m1s\u001b[0m 3ms/step - accuracy: 0.8674 - loss: 0.3171 - val_accuracy: 0.8519 - val_loss: 0.3563\nEpoch 89/100\n\u001b[1m200/200\u001b[0m \u001b[32m━━━━━━━━━━━━━━━━━━━━\u001b[0m\u001b[37m\u001b[0m \u001b[1m1s\u001b[0m 3ms/step - accuracy: 0.8735 - loss: 0.3080 - val_accuracy: 0.8500 - val_loss: 0.3561\nEpoch 90/100\n\u001b[1m200/200\u001b[0m \u001b[32m━━━━━━━━━━━━━━━━━━━━\u001b[0m\u001b[37m\u001b[0m \u001b[1m1s\u001b[0m 3ms/step - accuracy: 0.8637 - loss: 0.3209 - val_accuracy: 0.8506 - val_loss: 0.3551\nEpoch 91/100\n\u001b[1m200/200\u001b[0m \u001b[32m━━━━━━━━━━━━━━━━━━━━\u001b[0m\u001b[37m\u001b[0m \u001b[1m1s\u001b[0m 4ms/step - accuracy: 0.8574 - loss: 0.3326 - val_accuracy: 0.8487 - val_loss: 0.3566\nEpoch 92/100\n\u001b[1m200/200\u001b[0m \u001b[32m━━━━━━━━━━━━━━━━━━━━\u001b[0m\u001b[37m\u001b[0m \u001b[1m1s\u001b[0m 3ms/step - accuracy: 0.8634 - loss: 0.3179 - val_accuracy: 0.8481 - val_loss: 0.3571\nEpoch 93/100\n\u001b[1m200/200\u001b[0m \u001b[32m━━━━━━━━━━━━━━━━━━━━\u001b[0m\u001b[37m\u001b[0m \u001b[1m1s\u001b[0m 4ms/step - accuracy: 0.8609 - loss: 0.3205 - val_accuracy: 0.8531 - val_loss: 0.3550\nEpoch 94/100\n\u001b[1m200/200\u001b[0m \u001b[32m━━━━━━━━━━━━━━━━━━━━\u001b[0m\u001b[37m\u001b[0m \u001b[1m1s\u001b[0m 4ms/step - accuracy: 0.8666 - loss: 0.3144 - val_accuracy: 0.8487 - val_loss: 0.3559\nEpoch 95/100\n\u001b[1m200/200\u001b[0m \u001b[32m━━━━━━━━━━━━━━━━━━━━\u001b[0m\u001b[37m\u001b[0m \u001b[1m1s\u001b[0m 4ms/step - accuracy: 0.8670 - loss: 0.3156 - val_accuracy: 0.8481 - val_loss: 0.3553\nEpoch 96/100\n\u001b[1m200/200\u001b[0m \u001b[32m━━━━━━━━━━━━━━━━━━━━\u001b[0m\u001b[37m\u001b[0m \u001b[1m1s\u001b[0m 3ms/step - accuracy: 0.8720 - loss: 0.3088 - val_accuracy: 0.8500 - val_loss: 0.3566\nEpoch 97/100\n\u001b[1m200/200\u001b[0m \u001b[32m━━━━━━━━━━━━━━━━━━━━\u001b[0m\u001b[37m\u001b[0m \u001b[1m1s\u001b[0m 3ms/step - accuracy: 0.8618 - loss: 0.3102 - val_accuracy: 0.8475 - val_loss: 0.3560\nEpoch 98/100\n\u001b[1m200/200\u001b[0m \u001b[32m━━━━━━━━━━━━━━━━━━━━\u001b[0m\u001b[37m\u001b[0m \u001b[1m1s\u001b[0m 3ms/step - accuracy: 0.8747 - loss: 0.3127 - val_accuracy: 0.8519 - val_loss: 0.3558\nEpoch 99/100\n\u001b[1m200/200\u001b[0m \u001b[32m━━━━━━━━━━━━━━━━━━━━\u001b[0m\u001b[37m\u001b[0m \u001b[1m1s\u001b[0m 3ms/step - accuracy: 0.8731 - loss: 0.3083 - val_accuracy: 0.8494 - val_loss: 0.3570\nEpoch 100/100\n\u001b[1m200/200\u001b[0m \u001b[32m━━━━━━━━━━━━━━━━━━━━\u001b[0m\u001b[37m\u001b[0m \u001b[1m1s\u001b[0m 3ms/step - accuracy: 0.8715 - loss: 0.3159 - val_accuracy: 0.8506 - val_loss: 0.3563\n",
          "output_type": "stream"
        }
      ],
      "execution_count": null
    },
    {
      "cell_type": "code",
      "source": [
        "model.layers[0].get_weights()"
      ],
      "metadata": {
        "trusted": true,
        "execution": {
          "iopub.status.busy": "2025-08-24T21:48:44.669104Z",
          "iopub.execute_input": "2025-08-24T21:48:44.669439Z",
          "iopub.status.idle": "2025-08-24T21:48:44.68212Z",
          "shell.execute_reply.started": "2025-08-24T21:48:44.669415Z",
          "shell.execute_reply": "2025-08-24T21:48:44.680797Z"
        },
        "id": "1niL6AAtFZ6C",
        "outputId": "ceca8c2c-449e-43ab-b72e-d9159bb64f57"
      },
      "outputs": [
        {
          "execution_count": 59,
          "output_type": "execute_result",
          "data": {
            "text/plain": "[array([[-0.13822298, -0.12355124,  0.5553955 ,  0.25377217, -0.12578794,\n          0.35494977,  0.4080617 , -0.22728446,  0.07347704,  0.0376481 ,\n         -0.3699433 ],\n        [ 0.8191106 ,  0.24875882,  0.22025059,  0.01249763, -0.29986918,\n          0.4101789 ,  0.25515288,  0.23527068, -0.88869095, -0.9274609 ,\n          0.03821291],\n        [ 0.09565298,  0.13950056,  0.39505908, -0.52070427,  0.05338477,\n         -0.09426109,  0.4541282 , -0.14337748, -0.14783153, -0.2589774 ,\n         -0.29067487],\n        [-0.10960718,  0.21854393,  0.13013044,  0.40350834, -0.05107918,\n         -0.30325985, -0.8376805 ,  0.19126034,  0.1003609 ,  0.14010195,\n         -0.3462381 ],\n        [ 0.05682665, -1.0476531 ,  0.7474665 , -0.6873165 ,  0.18158048,\n         -0.8066783 ,  0.22261047,  1.1270465 ,  0.13305533, -0.24870108,\n         -1.0041345 ],\n        [ 0.14026083,  0.09883735, -0.26680514,  0.03795657, -0.355828  ,\n         -0.29863647, -0.01621065,  0.11720274, -0.15715191,  0.17612863,\n         -0.15424377],\n        [ 0.8494931 , -0.41027692, -0.39183033,  0.6462606 ,  0.707479  ,\n         -0.25300145, -0.5424679 , -0.12282474, -0.64309937,  0.7029588 ,\n         -0.49147373],\n        [ 0.05892831,  0.09831902, -0.06946079, -0.14422886, -0.12216696,\n          0.34780326, -0.36165592,  0.03009046,  0.11345375, -0.02080022,\n          0.07094082],\n        [-0.5006973 ,  0.2924533 , -0.08069712, -0.15017468, -0.05946098,\n         -0.40191123, -0.17398678, -0.4342385 , -0.42762363,  0.00884018,\n         -0.3642864 ],\n        [ 0.24283634,  0.29067358,  0.3358338 , -0.00653023, -0.55972224,\n         -0.23050407,  0.62002945,  0.17002556, -0.09325982,  0.11380908,\n         -0.06328747],\n        [ 0.17548132, -0.00486213, -0.22306418,  0.20764641,  0.24853711,\n         -0.5790932 ,  0.06333635,  0.05063213, -0.06799647,  0.43566373,\n          0.23500292]], dtype=float32),\n array([-0.33312863, -0.10873288, -0.16211121, -0.15379263,  0.3022933 ,\n         0.07543606,  0.6838688 , -0.43162936,  0.98153526,  0.40095875,\n         0.1973561 ], dtype=float32)]"
          },
          "metadata": {}
        }
      ],
      "execution_count": null
    },
    {
      "cell_type": "code",
      "source": [
        "y_log = model.predict(X_test_scaled)"
      ],
      "metadata": {
        "trusted": true,
        "execution": {
          "iopub.status.busy": "2025-08-24T21:48:47.409075Z",
          "iopub.execute_input": "2025-08-24T21:48:47.40941Z",
          "iopub.status.idle": "2025-08-24T21:48:47.768494Z",
          "shell.execute_reply.started": "2025-08-24T21:48:47.409388Z",
          "shell.execute_reply": "2025-08-24T21:48:47.767344Z"
        },
        "id": "WqN3yxOZFZ6C",
        "outputId": "7b49cfda-dc6e-4aa6-ea2b-e72cb9374e00"
      },
      "outputs": [
        {
          "name": "stdout",
          "text": "\u001b[1m63/63\u001b[0m \u001b[32m━━━━━━━━━━━━━━━━━━━━\u001b[0m\u001b[37m\u001b[0m \u001b[1m0s\u001b[0m 2ms/step\n",
          "output_type": "stream"
        }
      ],
      "execution_count": null
    },
    {
      "cell_type": "code",
      "source": [
        "y_pred = np.where(y_log>0.5,1,0)"
      ],
      "metadata": {
        "trusted": true,
        "execution": {
          "iopub.status.busy": "2025-08-24T21:48:53.472323Z",
          "iopub.execute_input": "2025-08-24T21:48:53.472615Z",
          "iopub.status.idle": "2025-08-24T21:48:53.478037Z",
          "shell.execute_reply.started": "2025-08-24T21:48:53.472595Z",
          "shell.execute_reply": "2025-08-24T21:48:53.476969Z"
        },
        "id": "jVCmwX32FZ6D"
      },
      "outputs": [],
      "execution_count": null
    },
    {
      "cell_type": "code",
      "source": [
        "from sklearn.metrics import accuracy_score\n",
        "accuracy_score(y_test,y_pred)"
      ],
      "metadata": {
        "trusted": true,
        "execution": {
          "iopub.status.busy": "2025-08-24T21:48:54.540061Z",
          "iopub.execute_input": "2025-08-24T21:48:54.540352Z",
          "iopub.status.idle": "2025-08-24T21:48:54.549451Z",
          "shell.execute_reply.started": "2025-08-24T21:48:54.540333Z",
          "shell.execute_reply": "2025-08-24T21:48:54.5482Z"
        },
        "id": "_twsXfQuFZ6D",
        "outputId": "18670be7-8ecc-4365-d147-06a02b51ecbd"
      },
      "outputs": [
        {
          "execution_count": 62,
          "output_type": "execute_result",
          "data": {
            "text/plain": "0.8595"
          },
          "metadata": {}
        }
      ],
      "execution_count": null
    },
    {
      "cell_type": "code",
      "source": [
        "import matplotlib.pyplot as plt"
      ],
      "metadata": {
        "trusted": true,
        "execution": {
          "iopub.status.busy": "2025-08-24T21:50:36.250248Z",
          "iopub.execute_input": "2025-08-24T21:50:36.250518Z",
          "iopub.status.idle": "2025-08-24T21:50:36.256254Z",
          "shell.execute_reply.started": "2025-08-24T21:50:36.250498Z",
          "shell.execute_reply": "2025-08-24T21:50:36.255022Z"
        },
        "id": "l6jtxDtjFZ6D"
      },
      "outputs": [],
      "execution_count": null
    },
    {
      "cell_type": "code",
      "source": [
        "history.history"
      ],
      "metadata": {
        "trusted": true,
        "execution": {
          "iopub.status.busy": "2025-08-24T21:54:29.143576Z",
          "iopub.execute_input": "2025-08-24T21:54:29.143915Z",
          "iopub.status.idle": "2025-08-24T21:54:29.154075Z",
          "shell.execute_reply.started": "2025-08-24T21:54:29.143881Z",
          "shell.execute_reply": "2025-08-24T21:54:29.153102Z"
        },
        "id": "9wgLmqSuFZ6E",
        "outputId": "bdc1e38d-3697-4f8f-b853-c255ed35c161"
      },
      "outputs": [
        {
          "execution_count": 65,
          "output_type": "execute_result",
          "data": {
            "text/plain": "{'accuracy': [0.8670312762260437,\n  0.8695312738418579,\n  0.8671875,\n  0.867968738079071,\n  0.8676562309265137,\n  0.867968738079071,\n  0.8675000071525574,\n  0.867968738079071,\n  0.8681250214576721,\n  0.8681250214576721,\n  0.8668749928474426,\n  0.8692187666893005,\n  0.8678125143051147,\n  0.8682812452316284,\n  0.8678125143051147,\n  0.8682812452316284,\n  0.867968738079071,\n  0.8678125143051147,\n  0.8671875,\n  0.8692187666893005,\n  0.8665624856948853,\n  0.8681250214576721,\n  0.8681250214576721,\n  0.8685937523841858,\n  0.8682812452316284,\n  0.8684375286102295,\n  0.8681250214576721,\n  0.8667187690734863,\n  0.8665624856948853,\n  0.8667187690734863,\n  0.867968738079071,\n  0.8668749928474426,\n  0.8676562309265137,\n  0.8678125143051147,\n  0.8684375286102295,\n  0.867968738079071,\n  0.8650000095367432,\n  0.867968738079071,\n  0.8690624833106995,\n  0.8678125143051147,\n  0.8676562309265137,\n  0.8681250214576721,\n  0.8667187690734863,\n  0.867968738079071,\n  0.867968738079071,\n  0.8673437237739563,\n  0.8689062595367432,\n  0.8692187666893005,\n  0.8692187666893005,\n  0.8668749928474426,\n  0.8687499761581421,\n  0.8671875,\n  0.8685937523841858,\n  0.8682812452316284,\n  0.8676562309265137,\n  0.8673437237739563,\n  0.8682812452316284,\n  0.8671875,\n  0.8690624833106995,\n  0.8696874976158142,\n  0.8690624833106995,\n  0.8695312738418579,\n  0.867968738079071,\n  0.8673437237739563,\n  0.8693749904632568,\n  0.8706250190734863,\n  0.867968738079071,\n  0.8684375286102295,\n  0.8687499761581421,\n  0.8695312738418579,\n  0.8673437237739563,\n  0.8682812452316284,\n  0.8687499761581421,\n  0.8685937523841858,\n  0.8675000071525574,\n  0.8682812452316284,\n  0.8698437213897705,\n  0.8693749904632568,\n  0.8696874976158142,\n  0.8687499761581421,\n  0.867968738079071,\n  0.8671875,\n  0.8685937523841858,\n  0.8690624833106995,\n  0.8673437237739563,\n  0.8692187666893005,\n  0.8690624833106995,\n  0.8689062595367432,\n  0.8678125143051147,\n  0.8682812452316284,\n  0.8673437237739563,\n  0.8689062595367432,\n  0.8681250214576721,\n  0.8681250214576721,\n  0.8685937523841858,\n  0.8701562285423279,\n  0.8659374713897705,\n  0.8690624833106995,\n  0.8696874976158142,\n  0.8696874976158142],\n 'loss': [0.3211299777030945,\n  0.3208406865596771,\n  0.32001009583473206,\n  0.3199145197868347,\n  0.3202316164970398,\n  0.32065755128860474,\n  0.319611519575119,\n  0.32015299797058105,\n  0.32003211975097656,\n  0.31943148374557495,\n  0.319825679063797,\n  0.3192937970161438,\n  0.3195327818393707,\n  0.31965333223342896,\n  0.31894028186798096,\n  0.31982073187828064,\n  0.3195759654045105,\n  0.31920602917671204,\n  0.3189031481742859,\n  0.3193584382534027,\n  0.31906571984291077,\n  0.3190874755382538,\n  0.31922033429145813,\n  0.31934186816215515,\n  0.31922447681427,\n  0.31949007511138916,\n  0.31915056705474854,\n  0.31886643171310425,\n  0.3188336193561554,\n  0.31858399510383606,\n  0.31918787956237793,\n  0.318443238735199,\n  0.3187997043132782,\n  0.3184312582015991,\n  0.3185306489467621,\n  0.3183608949184418,\n  0.31879177689552307,\n  0.31822291016578674,\n  0.3177199363708496,\n  0.3183228373527527,\n  0.31771019101142883,\n  0.318011999130249,\n  0.3179551362991333,\n  0.3174472749233246,\n  0.31792041659355164,\n  0.3178682029247284,\n  0.31699231266975403,\n  0.3171577751636505,\n  0.31771811842918396,\n  0.3177991211414337,\n  0.3174673318862915,\n  0.31750741600990295,\n  0.31686854362487793,\n  0.31775346398353577,\n  0.31716662645339966,\n  0.3169882297515869,\n  0.31702929735183716,\n  0.31685900688171387,\n  0.31707191467285156,\n  0.3174714148044586,\n  0.316998690366745,\n  0.3167227804660797,\n  0.3174046277999878,\n  0.316933810710907,\n  0.31676772236824036,\n  0.3166906237602234,\n  0.31698906421661377,\n  0.3165471851825714,\n  0.3164934813976288,\n  0.3167262673377991,\n  0.31661832332611084,\n  0.31681981682777405,\n  0.31564009189605713,\n  0.31683358550071716,\n  0.31667837500572205,\n  0.316249281167984,\n  0.3161853849887848,\n  0.31589946150779724,\n  0.31661921739578247,\n  0.3166322708129883,\n  0.3165842294692993,\n  0.3161665201187134,\n  0.3159099817276001,\n  0.3163636326789856,\n  0.31579315662384033,\n  0.31615179777145386,\n  0.31591707468032837,\n  0.31528863310813904,\n  0.31584814190864563,\n  0.3157552480697632,\n  0.3160705268383026,\n  0.3159017860889435,\n  0.3158687353134155,\n  0.3155882954597473,\n  0.3151160180568695,\n  0.31535664200782776,\n  0.31600019335746765,\n  0.3152068257331848,\n  0.3155090808868408,\n  0.315565824508667],\n 'val_accuracy': [0.8518750071525574,\n  0.8518750071525574,\n  0.8525000214576721,\n  0.8512499928474426,\n  0.8506249785423279,\n  0.8518750071525574,\n  0.8493750095367432,\n  0.8518750071525574,\n  0.8518750071525574,\n  0.8506249785423279,\n  0.8506249785423279,\n  0.8512499928474426,\n  0.8518750071525574,\n  0.8512499928474426,\n  0.8493750095367432,\n  0.8481249809265137,\n  0.8506249785423279,\n  0.8481249809265137,\n  0.8512499928474426,\n  0.8518750071525574,\n  0.8512499928474426,\n  0.8512499928474426,\n  0.8506249785423279,\n  0.8493750095367432,\n  0.8518750071525574,\n  0.8512499928474426,\n  0.8500000238418579,\n  0.8506249785423279,\n  0.8481249809265137,\n  0.8500000238418579,\n  0.8506249785423279,\n  0.8512499928474426,\n  0.8518750071525574,\n  0.8500000238418579,\n  0.8506249785423279,\n  0.8506249785423279,\n  0.8500000238418579,\n  0.8500000238418579,\n  0.8512499928474426,\n  0.8518750071525574,\n  0.8493750095367432,\n  0.8512499928474426,\n  0.8518750071525574,\n  0.8500000238418579,\n  0.8487499952316284,\n  0.8481249809265137,\n  0.8518750071525574,\n  0.8543750047683716,\n  0.8506249785423279,\n  0.8518750071525574,\n  0.8506249785423279,\n  0.8512499928474426,\n  0.8518750071525574,\n  0.8512499928474426,\n  0.8487499952316284,\n  0.8481249809265137,\n  0.8481249809265137,\n  0.846875011920929,\n  0.8506249785423279,\n  0.8525000214576721,\n  0.8500000238418579,\n  0.8506249785423279,\n  0.8512499928474426,\n  0.8506249785423279,\n  0.8487499952316284,\n  0.8500000238418579,\n  0.8493750095367432,\n  0.8500000238418579,\n  0.8506249785423279,\n  0.8493750095367432,\n  0.8493750095367432,\n  0.8500000238418579,\n  0.8518750071525574,\n  0.8512499928474426,\n  0.8493750095367432,\n  0.8525000214576721,\n  0.8518750071525574,\n  0.8506249785423279,\n  0.8525000214576721,\n  0.8500000238418579,\n  0.8512499928474426,\n  0.8518750071525574,\n  0.8518750071525574,\n  0.8506249785423279,\n  0.8500000238418579,\n  0.8475000262260437,\n  0.8506249785423279,\n  0.8518750071525574,\n  0.8500000238418579,\n  0.8506249785423279,\n  0.8487499952316284,\n  0.8481249809265137,\n  0.8531249761581421,\n  0.8487499952316284,\n  0.8481249809265137,\n  0.8500000238418579,\n  0.8475000262260437,\n  0.8518750071525574,\n  0.8493750095367432,\n  0.8506249785423279],\n 'val_loss': [0.3488411605358124,\n  0.3490276038646698,\n  0.35028597712516785,\n  0.34961143136024475,\n  0.35188770294189453,\n  0.3489999771118164,\n  0.3516348898410797,\n  0.34902557730674744,\n  0.34906741976737976,\n  0.3507194221019745,\n  0.35068443417549133,\n  0.34974831342697144,\n  0.35034632682800293,\n  0.350311279296875,\n  0.3515571355819702,\n  0.3515002429485321,\n  0.3506024181842804,\n  0.3509334623813629,\n  0.35162243247032166,\n  0.35059142112731934,\n  0.35195595026016235,\n  0.3514966666698456,\n  0.3523653447628021,\n  0.34998664259910583,\n  0.3520433306694031,\n  0.3509500026702881,\n  0.351678729057312,\n  0.3544760048389435,\n  0.3535587191581726,\n  0.3539634644985199,\n  0.35300812125205994,\n  0.35201799869537354,\n  0.35237452387809753,\n  0.35321852564811707,\n  0.3527153730392456,\n  0.3533422350883484,\n  0.3521628677845001,\n  0.35276809334754944,\n  0.3527679741382599,\n  0.3508760333061218,\n  0.3536859452724457,\n  0.35403501987457275,\n  0.3543326258659363,\n  0.35494527220726013,\n  0.3557925522327423,\n  0.35397252440452576,\n  0.3532828390598297,\n  0.3535993695259094,\n  0.35464030504226685,\n  0.3535371720790863,\n  0.3544237017631531,\n  0.3539477288722992,\n  0.3559980094432831,\n  0.354084312915802,\n  0.35601791739463806,\n  0.3544869124889374,\n  0.3551345765590668,\n  0.35783088207244873,\n  0.3530885577201843,\n  0.35429179668426514,\n  0.3558679223060608,\n  0.35450881719589233,\n  0.35397225618362427,\n  0.35445675253868103,\n  0.35480809211730957,\n  0.3544294238090515,\n  0.3541201651096344,\n  0.3551551401615143,\n  0.35429462790489197,\n  0.35448402166366577,\n  0.3554070293903351,\n  0.35437220335006714,\n  0.3570687174797058,\n  0.3558051288127899,\n  0.3545207679271698,\n  0.3532612919807434,\n  0.3538379967212677,\n  0.3551807105541229,\n  0.35566139221191406,\n  0.35593268275260925,\n  0.3556397557258606,\n  0.3550068140029907,\n  0.3549165427684784,\n  0.3553093373775482,\n  0.3550001084804535,\n  0.35651734471321106,\n  0.35658740997314453,\n  0.3563011884689331,\n  0.35605278611183167,\n  0.3550952076911926,\n  0.3566471040248871,\n  0.35710933804512024,\n  0.3550475239753723,\n  0.3558856248855591,\n  0.35529449582099915,\n  0.35658779740333557,\n  0.3560023903846741,\n  0.3557612895965576,\n  0.3570473790168762,\n  0.3562874495983124]}"
          },
          "metadata": {}
        }
      ],
      "execution_count": null
    },
    {
      "cell_type": "code",
      "source": [
        "plt.plot(history.history['loss'])\n",
        "plt.plot(history.history['val_loss']) # Tell at which level did overfitting occured"
      ],
      "metadata": {
        "trusted": true,
        "execution": {
          "iopub.status.busy": "2025-08-24T21:54:33.814156Z",
          "iopub.execute_input": "2025-08-24T21:54:33.814503Z",
          "iopub.status.idle": "2025-08-24T21:54:34.107604Z",
          "shell.execute_reply.started": "2025-08-24T21:54:33.814473Z",
          "shell.execute_reply": "2025-08-24T21:54:34.106659Z"
        },
        "id": "d_bJ4Al4FZ6E",
        "outputId": "8945fe5a-44de-4fa9-dfb4-50771719d24d"
      },
      "outputs": [
        {
          "execution_count": 66,
          "output_type": "execute_result",
          "data": {
            "text/plain": "[<matplotlib.lines.Line2D at 0x7ae7a659a190>]"
          },
          "metadata": {}
        },
        {
          "output_type": "display_data",
          "data": {
            "text/plain": "<Figure size 640x480 with 1 Axes>",
            "image/png": "[encoded data removed]"
          },
          "metadata": {}
        }
      ],
      "execution_count": null
    },
    {
      "cell_type": "code",
      "source": [
        "plt.plot(history.history['accuracy'])\n",
        "plt.plot(history.history['val_accuracy'])"
      ],
      "metadata": {
        "trusted": true,
        "execution": {
          "iopub.status.busy": "2025-08-24T21:55:52.459161Z",
          "iopub.execute_input": "2025-08-24T21:55:52.459496Z",
          "iopub.status.idle": "2025-08-24T21:55:52.652161Z",
          "shell.execute_reply.started": "2025-08-24T21:55:52.459473Z",
          "shell.execute_reply": "2025-08-24T21:55:52.65112Z"
        },
        "id": "hmaJ4AD1FZ6F",
        "outputId": "1944d694-63c6-4680-ce0b-611412407d5c"
      },
      "outputs": [
        {
          "execution_count": 67,
          "output_type": "execute_result",
          "data": {
            "text/plain": "[<matplotlib.lines.Line2D at 0x7ae7a6c10650>]"
          },
          "metadata": {}
        },
        {
          "output_type": "display_data",
          "data": {
            "text/plain": "<Figure size 640x480 with 1 Axes>",
            "image/png": "[encoded data removed]"
          },
          "metadata": {}
        }
      ],
      "execution_count": null
    },
    {
      "cell_type": "code",
      "source": [],
      "metadata": {
        "trusted": true,
        "id": "pnixR7jOFZ6F"
      },
      "outputs": [],
      "execution_count": null
    }
  ]
}